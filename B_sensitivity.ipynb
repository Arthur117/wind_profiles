{
 "cells": [
  {
   "cell_type": "markdown",
   "metadata": {},
   "source": [
    "# B sensitivity\n",
    "Here we check how the B parameter of Holland (1980) changes across all the different TCs that we have in the dataset. To do so, we first sort the TCs by category. Second, we define a piecewise B: B1 for the inner-core, B2 for the region right after the eyewall and B3 for the outer region. Then, we check how B1, B2 and B3 are modified as a function of the generak shape of the TC (asymmetry, presence of certain rainbands, etc...). "
   ]
  },
  {
   "cell_type": "code",
   "execution_count": 1,
   "metadata": {},
   "outputs": [],
   "source": [
    "import xarray as xr\n",
    "import numpy as np\n",
    "import matplotlib.pyplot as plt\n",
    "\n",
    "from scipy.interpolate import griddata\n",
    "from scipy.optimize import curve_fit\n",
    "\n",
    "import glob\n",
    "\n",
    "import functions as f"
   ]
  },
  {
   "cell_type": "code",
   "execution_count": 2,
   "metadata": {},
   "outputs": [
    {
     "name": "stdout",
     "output_type": "stream",
     "text": [
      "Total number of files: 385\n"
     ]
    }
   ],
   "source": [
    "### PATHS\n",
    "dir_path = '/home/arthur/data/cyclobs/rotated_files/'\n",
    "all_data = glob.glob(dir_path + \"*.nc\")\n",
    "print(\"Total number of files:\", len(all_data))\n",
    "# Categories: 'dep', 'storm', 'cat-1', 'cat-2', 'cat-3', 'cat-4', 'cat-5'\n",
    "# Nb of TCs:    1,      139,     88,      44,      57,      37,      19"
   ]
  },
  {
   "cell_type": "code",
   "execution_count": 3,
   "metadata": {},
   "outputs": [],
   "source": [
    "### INITIALIZE DATA STRUCTURE\n",
    "INI = {           # Initial values\n",
    "    'Holland':    [] # Lat, pn, pc, R1, R2, V1, V2, Vmin, A, B\n",
    "    } \n",
    "FIT = {           # Fit values\n",
    "    'B_sens':    [] # Lat, pn, pc, Vmin, Rmax, Vmax\n",
    "    } "
   ]
  },
  {
   "cell_type": "code",
   "execution_count": 5,
   "metadata": {},
   "outputs": [
    {
     "name": "stdout",
     "output_type": "stream",
     "text": [
      "1 =>     /home/arthur/data/cyclobs/rotated_files/s1b-ew-owi-cm-20180902t143708-20180902t143912-000003-01720F_ll_gd_rotated.nc\n",
      "Vmax =  63.777412     Vmin =  6.161851     V2 =  15.415391911570975\n",
      "B SENSITIVITY - Fit values \n",
      " pn_fit   = 106652.05 \n",
      " pc_fit   = 88501.14 \n",
      " Vmin_fit = 5.52 \n",
      " A_fit    = 27.85 \n",
      " B0_fit   = 0.80 \n",
      " B1_fit   = 1.76 \n",
      " B2_fit   = 1.90\n"
     ]
    }
   ],
   "source": [
    "### SORT THE TCs BY CATEGORY\n",
    "i = 0 \n",
    "for file in all_data[:1]:\n",
    "    i += 1\n",
    "    print(i, \"=>    \", file)\n",
    "    # print(i)\n",
    "    # Open file and compute mean wind speed\n",
    "    ds   = xr.open_dataset(file)\n",
    "    # print(ds['current_category'])\n",
    "    spdm = f.compute_mean_wind_spd(ds, 501)\n",
    "    # Vmax = np.nanmax(spdm[:200])\n",
    "    \n",
    "    # Initialize and fit profile\n",
    "    r, spdm              = f.initialize_radius(spdm)\n",
    "    R1, R2, V1, V2, Vmin = f.initialize_B_sensitivity_experiment(spdm, power_law=3)\n",
    "    print(\"Vmax = \", V1, \"    Vmin = \", Vmin, \"    V2 = \", V2)\n",
    "    Lat, pn, pc, A, B    = f.initialize_A_and_B(rho=1.15, Lat=np.float64(ds['lat_ref']), pn=1005 * 100., pc=950 * 100., Rmax=R1, Vmax=V1) # A and B are the same initial values for all 3 pieces\n",
    "    # INI['Holland']       = Lat, pn, pc, R1, R2, V1, V2, Vmin, A, B\n",
    "    FIT['B_sens']        = f.fit_B_sensitivity_experiment(r, spdm, rho=1.15, Lat=np.float64(ds['lat_ref']), R1=R1, R2=R2, pn=1005 * 100., pc=950 * 100., Vmin=Vmin, A=A, B=B, print_values=True)\n",
    "    \n",
    "    # Initialize and fit profile\n",
    "    '''\n",
    "    r, spdm           = f.initialize_radius(spdm)\n",
    "    INI['Holland']    = f.initialize_holland(spdm, Lat=np.float64(ds['lat_ref']), pn=1005, pc=950, print_values=PARAMS['print_params_values'])\n",
    "    FIT['Holland']    = f.fit_holland(r, spdm, *INI['Holland'],                 print_values=PARAMS['print_params_values'])\n",
    "    f.plot_B_sensitivity(i, file, r, spdm, FIT)            # To only plot the curves\n",
    "    '''\n",
    "   \n",
    "    "
   ]
  },
  {
   "cell_type": "code",
   "execution_count": null,
   "metadata": {},
   "outputs": [],
   "source": []
  },
  {
   "cell_type": "code",
   "execution_count": null,
   "metadata": {},
   "outputs": [],
   "source": []
  }
 ],
 "metadata": {
  "kernelspec": {
   "display_name": "paramProfiles",
   "language": "python",
   "name": "paramprofiles"
  },
  "language_info": {
   "codemirror_mode": {
    "name": "ipython",
    "version": 3
   },
   "file_extension": ".py",
   "mimetype": "text/x-python",
   "name": "python",
   "nbconvert_exporter": "python",
   "pygments_lexer": "ipython3",
   "version": "3.8.5"
  }
 },
 "nbformat": 4,
 "nbformat_minor": 4
}
