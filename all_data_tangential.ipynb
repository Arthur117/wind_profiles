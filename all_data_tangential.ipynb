{
 "cells": [
  {
   "cell_type": "markdown",
   "metadata": {},
   "source": [
    "# Fit Rankine, Holland, Willoughby and Chavas profiles on SAR data\n",
    "Note that so far the Rmax is searched in the first 200km around the TC center (in the code this impacts how the functions are initialized, but also when the curves are plot (on the smaller scale graph).\n",
    "\n",
    "For the fitting, we constrain Rmax > 5km which works well for a lot of TCs. \n",
    "\n",
    "CAVEAT: Currently Chavas is fitted using total wind speed to be compared with other profiles.\n",
    "\n",
    "Case 120: What happens if Vmax < Vfit (17) ? The algorithm takes the closest to Vfit (so certainly Vmax). BUT TODO: define Vfit as spdm(Rfit). AND ALSO: take a relevant Vfit in case 17 is not the best. \n",
    "Case 355 and 376. \n"
   ]
  },
  {
   "cell_type": "code",
   "execution_count": null,
   "metadata": {},
   "outputs": [],
   "source": [
    "import xarray as xr\n",
    "import numpy as np\n",
    "import matplotlib.pyplot as plt\n",
    "\n",
    "from scipy.interpolate import griddata\n",
    "from scipy.optimize import curve_fit\n",
    "\n",
    "import glob\n",
    "\n",
    "import functions as f"
   ]
  },
  {
   "cell_type": "code",
   "execution_count": null,
   "metadata": {},
   "outputs": [],
   "source": [
    "### PATHS\n",
    "dir_path = '/home/arthur/data/cyclobs/rotated_files/'\n",
    "all_data = glob.glob(dir_path + \"*.nc\")\n",
    "print(\"Total number of files:\", len(all_data))\n",
    "# Savepath to be modified directly in the function\n",
    "\n",
    "### PARAMS\n",
    "PARAMS = {\n",
    "    'r_window_len':   501, # Scale for radius (km)\n",
    "    'rmax_window':    300, # Window in whick we look for Rmax (e.g [0, 200km])\n",
    "    'print_values': False,\n",
    "    'tangential_wind_speed': True\n",
    "    }"
   ]
  },
  {
   "cell_type": "code",
   "execution_count": null,
   "metadata": {},
   "outputs": [],
   "source": [
    "# INITIALIZE DATA STRUCTURE\n",
    "INI = {           # Initial values\n",
    "    'Rankine':    [], # x, alpha, Vmin, Rmax\n",
    "    'Holland':    [], # Lat, pn, pc, Vmin, Rmax, Vmax\n",
    "    'Willoughby': [], # n, X1, Vmin, Rmax, Vmax\n",
    "    'Chavas':     []  # Vmax, Rfit, Vfit, fcor, Cdvary, Cd, w_cool, CkCdvary, CkCd, eye_adj, alpha_eye\n",
    "    } \n",
    "FIT = {           # Fit values\n",
    "    'Rankine':    [], # x, alpha, Vmin, Rmax\n",
    "    'Holland':    [], # Lat, pn, pc, Vmin, Rmax, Vmax\n",
    "    'Willoughby': [], # n, X1, Vmin, Rmax, Vmax\n",
    "    'Chavas':     []  # rr, VV, rmax, r0, rmerge, Vmerge\n",
    "    } "
   ]
  },
  {
   "cell_type": "code",
   "execution_count": null,
   "metadata": {},
   "outputs": [],
   "source": [
    "# FIT AND PRINT ALL THE PROFILES ON ALL THE DATA\n",
    "i   = 0\n",
    "for file in all_data[120:]:\n",
    "    i += 1\n",
    "    print(i, \"=>    \", file)\n",
    "    # Open file and compute mean wind speed\n",
    "    ds      = xr.open_dataset(file)\n",
    "    if PARAMS['tangential_wind_speed']:\n",
    "        spdm = f.compute_mean_tangential_wind_spd(ds, r_window_len=PARAMS['r_window_len']) # TANGENTIAL WIND SPEED\n",
    "    else:\n",
    "        spdm    = f.compute_mean_wind_spd(ds, r_window_len=PARAMS['r_window_len'])         # TOTAL WIND SPEED\n",
    "    \n",
    "    # Debug\n",
    "    if 1 == 0: # DEBUG\n",
    "        f.print_ds(ds)\n",
    "        f.print_spd(ds)\n",
    "        print(spdm)\n",
    "    \n",
    "    # Initialize and fit profile\n",
    "    r, spdm, first_valid_index = f.initialize_radius(spdm)\n",
    "    \n",
    "    INI['Rankine']    = f.initialize_rankine(spdm, x=0.5, alpha=1.,                                PARAMS=PARAMS)\n",
    "    INI['Holland']    = f.initialize_holland(spdm, Lat=np.float64(ds['lat_ref']), pn=1005, pc=950, PARAMS=PARAMS)\n",
    "    INI['Willoughby'] = f.initialize_willoughby(spdm, n=1.,                                        PARAMS=PARAMS)\n",
    "    INI['Chavas']     = f.initialize_chavas(spdm, Lat=np.float64(ds['lat_ref']),                   PARAMS=PARAMS) # change to spdm_ch to use tangential wind speed\n",
    "    \n",
    "    FIT['Rankine']    = f.fit_rankine(r, spdm, *INI['Rankine'],                 PARAMS=PARAMS)\n",
    "    FIT['Holland']    = f.fit_holland(r, spdm, *INI['Holland'],                 PARAMS=PARAMS)\n",
    "    FIT['Willoughby'] = f.fit_willoughby_no_smooth(r, spdm, *INI['Willoughby'], PARAMS=PARAMS)\n",
    "    FIT['Chavas']     = f.fit_chavas(*INI['Chavas'],                            PARAMS=PARAMS)\n",
    "    \n",
    "    f.plot_curves(i, file, r, spdm, FIT, PARAMS)    # To only plot the curves\n",
    "    # f.save_curves(i, file, ds, r, spdm, INI, FIT, PARAMS) # To save the .jpg and associated .txt files"
   ]
  },
  {
   "cell_type": "code",
   "execution_count": null,
   "metadata": {},
   "outputs": [],
   "source": [
    "a = [np.nan, np.nan, 1, 1, 1, 2, np.nan, 1, 1]\n",
    "\n",
    "first_valid_index = np.min(np.where(np.isfinite(a)))\n",
    "print(first_valid_index)\n",
    "\n",
    "last_valid_index = np.min(np.where(np.isnan(a[first_valid_index:]))[0])\n",
    "print(last_valid_index)"
   ]
  },
  {
   "cell_type": "code",
   "execution_count": null,
   "metadata": {},
   "outputs": [],
   "source": [
    "b = np.arange(0, 5)\n",
    "print(b)\n",
    "b[0:5]"
   ]
  },
  {
   "cell_type": "code",
   "execution_count": null,
   "metadata": {},
   "outputs": [],
   "source": []
  }
 ],
 "metadata": {
  "kernelspec": {
   "display_name": "paramProfiles",
   "language": "python",
   "name": "paramprofiles"
  },
  "language_info": {
   "codemirror_mode": {
    "name": "ipython",
    "version": 3
   },
   "file_extension": ".py",
   "mimetype": "text/x-python",
   "name": "python",
   "nbconvert_exporter": "python",
   "pygments_lexer": "ipython3",
   "version": "3.8.5"
  }
 },
 "nbformat": 4,
 "nbformat_minor": 4
}
