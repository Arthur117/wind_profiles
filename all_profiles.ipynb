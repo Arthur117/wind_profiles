{
 "cells": [
  {
   "cell_type": "markdown",
   "metadata": {},
   "source": [
    "# Fit Rankine, Holland, Willoughby and Chavas profiles on SAR data\n",
    "Note that so far the Rmax is searched in the first 200km around the TC center (in the code this impacts how the functions are initialized, but also when the curves are plot (on the smaller scale graph).\n",
    "\n",
    "For the fitting, we constrain Rmax > 5km which works well for a lot of TCs. \n",
    "\n",
    "In the papers of Holland, Willoughby and Chavas, the wind used is the tangential wind (same for Rankine). \n",
    "\n",
    "NB: If the TC is in Southern Hemisphere, it is flipped (not only for the quadrant comparison).\n",
    "\n",
    "TODO:\n",
    "\n",
    "==> Translate Chavas by Vmin; DONE\n",
    "\n",
    "==> Which profiles work when? etc...\n",
    "\n",
    "==> Chavas looks worse, but this is because the other profiles use curve_fit(). Try to define the other profiles just with the input parameters. DONE\n"
   ]
  },
  {
   "cell_type": "code",
   "execution_count": 1,
   "metadata": {},
   "outputs": [],
   "source": [
    "import xarray as xr\n",
    "import numpy as np\n",
    "import matplotlib.pyplot as plt\n",
    "\n",
    "from scipy.interpolate import griddata\n",
    "from scipy.optimize import curve_fit\n",
    "\n",
    "import glob\n",
    "\n",
    "import functions as f"
   ]
  },
  {
   "cell_type": "code",
   "execution_count": 2,
   "metadata": {},
   "outputs": [
    {
     "name": "stdout",
     "output_type": "stream",
     "text": [
      "Total number of files: 322\n"
     ]
    }
   ],
   "source": [
    "### PATHS\n",
    "# dir_path = '/home/arthur/data/cyclobs/rotated_files/clean_dataset/'\n",
    "dir_path = '/home/arthur/data/cyclobs/rotated_files/clean_dataset/'\n",
    "all_data = glob.glob(dir_path + \"*.nc\")\n",
    "print(\"Total number of files:\", len(all_data))\n",
    "# Savepath to be modified directly in the function\n",
    "\n",
    "### PARAMS\n",
    "PARAMS = {\n",
    "    'r_window_len':          501,  # Scale for radius (km)\n",
    "    'rmax_window':           300,  # Window in whick we look for Rmax (e.g [0, 200km])\n",
    "    'chavas_vfit':           17,\n",
    "    'rank_hol_will_vmin':    True, \n",
    "    'chavas_vmin':           False, # Translates the profile from Vmin if True\n",
    "    'use_curve_fit':         True,\n",
    "    'tangential_wind_speed': True, # If False, total wind speed is used\n",
    "    'print_values':          False, \n",
    "    'save_dir':              \"/home/arthur/results/windProfiles/v6/\"\n",
    "    }"
   ]
  },
  {
   "cell_type": "code",
   "execution_count": 3,
   "metadata": {},
   "outputs": [],
   "source": [
    "# INITIALIZE DATA STRUCTURE\n",
    "INI = {           # Initial values\n",
    "    'Rankine':    [], # x, alpha, Vmin, Rmax\n",
    "    'Holland':    [], # Lat, pn, pc, Vmin, Rmax, Vmax\n",
    "    'Willoughby': [], # n, X1, Vmin, Rmax, Vmax\n",
    "    'Chavas':     []  # Vmax, Vmin, Rfit, Vfit, fcor, Cdvary, Cd, w_cool, CkCdvary, CkCd, eye_adj, alpha_eye\n",
    "    } \n",
    "FIT = {           # Fit values\n",
    "    'Rankine':    [], # x, alpha, Vmin, Rmax\n",
    "    'Holland':    [], # Lat, pn, pc, Vmin, Rmax, Vmax\n",
    "    'Willoughby': [], # n, X1, Vmin, Rmax, Vmax\n",
    "    'Chavas':     []  # rr, VV, rmax, r0, rmerge, Vmerge\n",
    "    } "
   ]
  },
  {
   "cell_type": "code",
   "execution_count": 4,
   "metadata": {},
   "outputs": [
    {
     "name": "stdout",
     "output_type": "stream",
     "text": [
      "1 =>     /home/arthur/data/cyclobs/rotated_files/clean_dataset/s1b-ew-owi-cm-20180902t143708-20180902t143912-000003-01720F_ll_gd_rotated.nc\n"
     ]
    },
    {
     "name": "stderr",
     "output_type": "stream",
     "text": [
      "/home/arthur/scripts/windProfiles/symmetric/functions.py:275: RuntimeWarning: divide by zero encountered in true_divide\n",
      "  V_ER11 = (1. / rr_ER11) * (Vmax * rmax + .5 * fcor * rmax ** 2) * ((2 * (rr_ER11 / rmax) ** 2) / (2 - CkCd + CkCd * (rr_ER11 / rmax) ** 2)) ** (1 / (2 - CkCd)) - .5 * fcor * rr_ER11\n",
      "/home/arthur/scripts/windProfiles/symmetric/functions.py:275: RuntimeWarning: invalid value encountered in multiply\n",
      "  V_ER11 = (1. / rr_ER11) * (Vmax * rmax + .5 * fcor * rmax ** 2) * ((2 * (rr_ER11 / rmax) ** 2) / (2 - CkCd + CkCd * (rr_ER11 / rmax) ** 2)) ** (1 / (2 - CkCd)) - .5 * fcor * rr_ER11\n",
      "/home/arthur/scripts/windProfiles/symmetric/functions.py:189: RuntimeWarning: invalid value encountered in true_divide\n",
      "  VV = (Mm / rmax) * (MMfracMm / rrfracrm) - .5 * fcor * rmax * rrfracrm #[ms-1]\n"
     ]
    }
   ],
   "source": [
    "# FIT AND PRINT ALL THE PROFILES ON ALL THE DATA\n",
    "i   = 0\n",
    "for file in all_data[:1]:\n",
    "    i += 1\n",
    "    print(i, \"=>    \", file)\n",
    "    # Open file and compute mean wind speed\n",
    "    ds      = xr.open_dataset(file)\n",
    "    if PARAMS['tangential_wind_speed']:\n",
    "        spdm = f.compute_mean_tangential_wind_spd(ds, r_window_len=PARAMS['r_window_len']) # TANGENTIAL WIND SPEED\n",
    "    else:\n",
    "        spdm = f.compute_mean_wind_spd(ds, r_window_len=PARAMS['r_window_len'])         # TOTAL WIND SPEED\n",
    "    \n",
    "    # Debug\n",
    "    if 1 == 0: # DEBUG\n",
    "        f.print_ds(ds)\n",
    "        f.print_spd(ds)\n",
    "        print(spdm)\n",
    "    \n",
    "    # Initialize and fit profile\n",
    "    r, spdm, first_valid_index = f.initialize_radius(spdm)\n",
    "    \n",
    "    INI['Rankine']    = f.initialize_rankine(spdm, x=0.5, alpha=1.,                                PARAMS=PARAMS)\n",
    "    INI['Holland']    = f.initialize_holland(spdm, Lat=np.float64(ds['lat_ref']), pn=1005, pc=950, PARAMS=PARAMS)\n",
    "    INI['Willoughby'] = f.initialize_willoughby(spdm, n=1.,                                        PARAMS=PARAMS)\n",
    "    INI['Chavas']     = f.initialize_chavas(spdm, Lat=np.float64(ds['lat_ref']),                   PARAMS=PARAMS)\n",
    "    \n",
    "    FIT['Rankine']    = f.fit_rankine(r, spdm, *INI['Rankine'],                 PARAMS=PARAMS)\n",
    "    FIT['Holland']    = f.fit_holland(r, spdm, *INI['Holland'],                 PARAMS=PARAMS)\n",
    "    FIT['Willoughby'] = f.fit_willoughby_no_smooth(r, spdm, *INI['Willoughby'], PARAMS=PARAMS)\n",
    "    FIT['Chavas']     = f.fit_chavas(*INI['Chavas'],                            PARAMS=PARAMS)\n",
    "    \n",
    "    # f.plot_curves(i, file, r, spdm, INI, FIT, PARAMS)    # To only plot the curves\n",
    "    # plt.show()\n",
    "    # f.save_curves(i, file, ds, r, spdm, INI, FIT, PARAMS) # To save the .jpg and associated .txt files"
   ]
  },
  {
   "cell_type": "code",
   "execution_count": null,
   "metadata": {},
   "outputs": [],
   "source": []
  }
 ],
 "metadata": {
  "kernelspec": {
   "display_name": "paramProfiles",
   "language": "python",
   "name": "paramprofiles"
  },
  "language_info": {
   "codemirror_mode": {
    "name": "ipython",
    "version": 3
   },
   "file_extension": ".py",
   "mimetype": "text/x-python",
   "name": "python",
   "nbconvert_exporter": "python",
   "pygments_lexer": "ipython3",
   "version": "3.8.11"
  }
 },
 "nbformat": 4,
 "nbformat_minor": 4
}
