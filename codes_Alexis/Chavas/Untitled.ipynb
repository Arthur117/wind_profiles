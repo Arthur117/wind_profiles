{
 "cells": [
  {
   "cell_type": "code",
   "execution_count": 1,
   "metadata": {},
   "outputs": [],
   "source": [
    "import sys\n",
    "\n",
    "import numpy as np\n",
    "\n",
    "sys.path.append('/home/amouche/PythonTool/palette')\n",
    "from palette import *\n",
    "\n",
    "sys.path.append('/home/amouche/science/hurricanes/Chavas/input_mf/scripts/chavas')\n",
    "import CLE15"
   ]
  },
  {
   "cell_type": "code",
   "execution_count": null,
   "metadata": {},
   "outputs": [
    {
     "name": "stdout",
     "output_type": "stream",
     "text": [
      "3\n",
      "0\n"
     ]
    },
    {
     "name": "stderr",
     "output_type": "stream",
     "text": [
      "/home/amouche/science/hurricanes/Chavas/input_mf/scripts/chavas/CLE15.py:207: RuntimeWarning: divide by zero encountered in true_divide\n",
      "  V_ER11 = (1./rr_ER11)*(Vmax*rmax + .5*fcor*rmax**2)*((2*(rr_ER11/rmax)**2)/(2-CkCd+CkCd*(rr_ER11/rmax)**2))**(1/(2-CkCd)) - .5*fcor*rr_ER11\n",
      "/home/amouche/science/hurricanes/Chavas/input_mf/scripts/chavas/CLE15.py:207: RuntimeWarning: invalid value encountered in multiply\n",
      "  V_ER11 = (1./rr_ER11)*(Vmax*rmax + .5*fcor*rmax**2)*((2*(rr_ER11/rmax)**2)/(2-CkCd+CkCd*(rr_ER11/rmax)**2))**(1/(2-CkCd)) - .5*fcor*rr_ER11\n",
      "/home/amouche/science/hurricanes/Chavas/input_mf/scripts/chavas/CLE15.py:188: RuntimeWarning: overflow encountered in double_scalars\n",
      "  dMfracM0_drfracr0_temp = gam*((MfracM0_temp-rfracr0_temp**2)**2)/(1-rfracr0_temp**2)\n"
     ]
    }
   ],
   "source": [
    "Rfit = np.array([350,350,350])\n",
    "Vfit = 17\n",
    "Az   = np.array([0,90,180])\n",
    "Vmax = 25 \n",
    "Vfm  = 5 \n",
    "Dfm  = 0\n",
    "Lat  = 20.\n",
    "Rlim = 800 # outer core limit\n",
    "\n",
    "print(Az.size)\n",
    "RRF, WWF, xf,yf = CLE15.glochv(Rfit,Vfit,Az,Vmax,Vfm,Dfm,Lat,Rlim)\n",
    "\n"
   ]
  },
  {
   "cell_type": "code",
   "execution_count": null,
   "metadata": {},
   "outputs": [],
   "source": [
    "#print(RRF)"
   ]
  },
  {
   "cell_type": "code",
   "execution_count": null,
   "metadata": {},
   "outputs": [],
   "source": [
    "RRF.shape"
   ]
  }
 ],
 "metadata": {
  "kernelspec": {
   "display_name": "Python 3",
   "language": "python",
   "name": "python3"
  },
  "language_info": {
   "codemirror_mode": {
    "name": "ipython",
    "version": 3
   },
   "file_extension": ".py",
   "mimetype": "text/x-python",
   "name": "python",
   "nbconvert_exporter": "python",
   "pygments_lexer": "ipython3",
   "version": "3.8.3"
  }
 },
 "nbformat": 4,
 "nbformat_minor": 4
}
