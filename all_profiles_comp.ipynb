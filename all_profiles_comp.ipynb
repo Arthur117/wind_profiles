{
 "cells": [
  {
   "cell_type": "markdown",
   "metadata": {},
   "source": [
    "# Fit Rankine, Holland, Willoughby and Chavas profiles on SAR data\n",
    "Note that so far the Rmax is searched in the first 200km around the TC center (in the code this impacts how the functions are initialized, but also when the curves are plot (on the smaller scale graph).\n",
    "\n",
    "For the fitting, we constrain Rmax > 5km which works well for a lot of TCs. \n",
    "\n",
    "In the papers of Holland, Willoughby and Chavas, the wind used is the tangential wind (same for Rankine). \n",
    "\n",
    "TODO:\n",
    "\n",
    "==> Which profiles work when? etc...\n",
    "\n"
   ]
  },
  {
   "cell_type": "code",
   "execution_count": 1,
   "metadata": {},
   "outputs": [],
   "source": [
    "import xarray as xr\n",
    "import numpy as np\n",
    "import matplotlib.pyplot as plt\n",
    "\n",
    "from scipy.interpolate import griddata\n",
    "from scipy.optimize import curve_fit\n",
    "\n",
    "import glob\n",
    "\n",
    "import functions as f"
   ]
  },
  {
   "cell_type": "code",
   "execution_count": 2,
   "metadata": {},
   "outputs": [
    {
     "name": "stdout",
     "output_type": "stream",
     "text": [
      "Total number of files: 322\n"
     ]
    }
   ],
   "source": [
    "### PATHS\n",
    "# dir_path = '/home/arthur/data/cyclobs/rotated_files/'\n",
    "dir_path = '/home/arthur/data/cyclobs/rotated_files/clean_dataset/'\n",
    "all_data = glob.glob(dir_path + \"*.nc\")\n",
    "print(\"Total number of files:\", len(all_data))\n",
    "# Savepath to be modified directly in the function\n",
    "\n",
    "### PARAMS\n",
    "PARAMS = {\n",
    "    'r_window_len':          501,  # Scale for radius (km)\n",
    "    'rmax_window':           300,  # Window in whick we look for Rmax (e.g [0, 200km])\n",
    "    'chavas_vfit':           17,\n",
    "    'rank_hol_will_vmin':    True, # Uses Vmin as a free parameter if True. If False, Vmin = 0\n",
    "    'chavas_vmin':           False, # Translates the profile from Vmin if True\n",
    "    \n",
    "    'r_Rmax_axis':           True, # If True, uses r* = r/Rmax as x-axis\n",
    "    'r_Rmax_scale':          16.,\n",
    "    'r_Rmax_num_pts':        321,\n",
    "    \n",
    "    'use_curve_fit':         True,\n",
    "    'tangential_wind_speed': True, # If False, total wind speed is used\n",
    "    'print_values':          False, \n",
    "    \n",
    "    'save_dir':              \"/home/arthur/results/windProfiles/test3/\",\n",
    "    'save_comparison':       False,\n",
    "    'save_scatter':          True\n",
    "    }"
   ]
  },
  {
   "cell_type": "code",
   "execution_count": 3,
   "metadata": {},
   "outputs": [],
   "source": [
    "# INITIALIZE DATA STRUCTURE\n",
    "INI = {           # Initial values\n",
    "    'Rankine':    [], # x, alpha, Vmin, Rmax\n",
    "    'Holland':    [], # Lat, pn, pc, Vmin, Rmax, Vmax\n",
    "    'Willoughby': [], # n, X1, Vmin, Rmax, Vmax\n",
    "    'Chavas':     []  # Vmax, Vmin, Rfit, Vfit, fcor, Cdvary, Cd, w_cool, CkCdvary, CkCd, eye_adj, alpha_eye\n",
    "    } \n",
    "FIT = {           # Fit values\n",
    "    'Rankine':    [], # x, alpha, Vmin, Rmax\n",
    "    'Holland':    [], # Lat, pn, pc, Vmin, Rmax, Vmax\n",
    "    'Willoughby': [], # n, X1, Vmin, Rmax, Vmax\n",
    "    'Chavas':     []  # rr, VV, rmax, r0, rmerge, Vmerge\n",
    "    }\n",
    "# GAP WITH OBSERVATIONS\n",
    "NB_CAT    = [None] * 6\n",
    "DIFF      = [None] * 6\n",
    "RMAX_OBS  = [None] * 6\n",
    "RMAX_FIT  = [None] * 6\n",
    "VMAX_OBS  = [None] * 6\n",
    "VMAX_FIT  = [None] * 6\n",
    "FIT_PARAMS= [None] * 6\n",
    "r_axis_length = PARAMS['r_window_len']\n",
    "if PARAMS['r_Rmax_axis']:\n",
    "    r_axis_length = PARAMS['r_Rmax_num_pts']\n",
    "for i in range(6):\n",
    "    # DIFF[0] = Storm\n",
    "    # DIFF[i] = Cat. i\n",
    "    DIFF[i] = {\n",
    "    'Rankine':    [0.] * r_axis_length,\n",
    "    'Holland':    [0.] * r_axis_length,\n",
    "    'Willoughby': [0.] * r_axis_length,\n",
    "    'Chavas':     [0.] * r_axis_length \n",
    "    }\n",
    "    NB_CAT[i] = {\n",
    "    'Rank-Hol-Will': [0.] * r_axis_length,\n",
    "    'Chavas':        [0.] * r_axis_length \n",
    "    }\n",
    "    RMAX_OBS[i] = []\n",
    "    RMAX_FIT[i] = {\n",
    "    'Rankine':    [],\n",
    "    'Holland':    [],\n",
    "    'Willoughby': [],\n",
    "    'Chavas':     [] \n",
    "    }\n",
    "    VMAX_OBS[i] = []\n",
    "    VMAX_FIT[i] = {\n",
    "    'Rankine':    [],\n",
    "    'Holland':    [],\n",
    "    'Willoughby': [],\n",
    "    'Chavas':     [] \n",
    "    }\n",
    "    FIT_PARAMS[i] = {\n",
    "    'Rankine':    [],\n",
    "    'Holland':    [],\n",
    "    'Willoughby': [],\n",
    "    'Chavas':     [] \n",
    "    }"
   ]
  },
  {
   "cell_type": "code",
   "execution_count": 4,
   "metadata": {},
   "outputs": [
    {
     "name": "stdout",
     "output_type": "stream",
     "text": [
      "1 =>     /home/arthur/data/cyclobs/rotated_files/clean_dataset/s1b-ew-owi-cm-20180902t143708-20180902t143912-000003-01720F_ll_gd_rotated.nc\n"
     ]
    },
    {
     "name": "stderr",
     "output_type": "stream",
     "text": [
      "/home/arthur/scripts/windProfiles/symmetric/functions.py:274: RuntimeWarning: divide by zero encountered in true_divide\n",
      "  V_ER11 = (1. / rr_ER11) * (Vmax * rmax + .5 * fcor * rmax ** 2) * ((2 * (rr_ER11 / rmax) ** 2) / (2 - CkCd + CkCd * (rr_ER11 / rmax) ** 2)) ** (1 / (2 - CkCd)) - .5 * fcor * rr_ER11\n",
      "/home/arthur/scripts/windProfiles/symmetric/functions.py:274: RuntimeWarning: invalid value encountered in multiply\n",
      "  V_ER11 = (1. / rr_ER11) * (Vmax * rmax + .5 * fcor * rmax ** 2) * ((2 * (rr_ER11 / rmax) ** 2) / (2 - CkCd + CkCd * (rr_ER11 / rmax) ** 2)) ** (1 / (2 - CkCd)) - .5 * fcor * rr_ER11\n",
      "/home/arthur/scripts/windProfiles/symmetric/functions.py:188: RuntimeWarning: invalid value encountered in true_divide\n",
      "  VV = (Mm / rmax) * (MMfracMm / rrfracrm) - .5 * fcor * rmax * rrfracrm #[ms-1]\n"
     ]
    },
    {
     "name": "stdout",
     "output_type": "stream",
     "text": [
      "<class 'list'>\n",
      "<class 'tuple'>\n",
      "<class 'numpy.ndarray'>\n",
      "(1, 4)\n",
      "\n",
      "*** Storm mean parameters:\n",
      "CAVEAT: Empty array FIT_PARAMS\n",
      "(1, 4)\n",
      "\n",
      "*** Cat.1 mean parameters:\n",
      "CAVEAT: Empty array FIT_PARAMS\n",
      "(1, 4)\n",
      "\n",
      "*** Cat.2 mean parameters:\n",
      "CAVEAT: Empty array FIT_PARAMS\n",
      "(1, 4)\n",
      "\n",
      "*** Cat.3 mean parameters:\n",
      "CAVEAT: Empty array FIT_PARAMS\n",
      "(1, 4)\n",
      "\n",
      "*** Cat.4 mean parameters:\n",
      "=> RANKINE \n",
      " x     = 0.68 \n",
      " alpha = 2.16 \n",
      " Vmin  = 0.00 \n",
      " Rmax  = 22.92\n",
      "=> HOLLAND \n",
      " pn    = 100168.16 \n",
      " pc    = 96987.78 \n",
      " Vmin  = 0.00 \n",
      " Rmax  = 23.28 \n",
      " Vmax  = 41.24\n",
      "=> WILLOUGHBY \n",
      " n    = 1.05 \n",
      " X1   = 174.21 \n",
      " Vmin = 0.00 \n",
      " Rmax = 17.41 \n",
      " Vmax = 35.96\n",
      "=> CHAVAS \n",
      " Rmax   = 18966.13 \n",
      " R0     = 730138.61 \n",
      " Rmerge = 49102.71 \n",
      " Vmerge = 32.86\n",
      "(1, 4)\n",
      "\n",
      "*** Cat.5 mean parameters:\n",
      "CAVEAT: Empty array FIT_PARAMS\n"
     ]
    },
    {
     "data": {
      "image/png": "[encoded data removed]",
      "text/plain": [
       "<Figure size 1440x1440 with 4 Axes>"
      ]
     },
     "metadata": {
      "needs_background": "light"
     },
     "output_type": "display_data"
    }
   ],
   "source": [
    "# FIT AND PRINT ALL THE PROFILES ON ALL THE DATA\n",
    "i   = 0\n",
    "for file in all_data:\n",
    "    i += 1\n",
    "    print(i, \"=>    \", file)\n",
    "    # Open file and compute mean wind speed\n",
    "    ds      = xr.open_dataset(file)\n",
    "    if PARAMS['tangential_wind_speed']:\n",
    "        spdm = f.compute_mean_tangential_wind_spd(ds, r_window_len=PARAMS['r_window_len']) # TANGENTIAL WIND SPEED\n",
    "    else:\n",
    "        spdm = f.compute_mean_wind_spd(ds, r_window_len=PARAMS['r_window_len'])         # TOTAL WIND SPEED\n",
    "    \n",
    "    # Debug\n",
    "    if 1 == 0: # DEBUG\n",
    "        f.print_ds(ds)\n",
    "        f.print_spd(ds)\n",
    "        print(spdm)\n",
    "    \n",
    "    # Initialize and fit profile\n",
    "    r, spdm, first_valid_index = f.initialize_radius(spdm)\n",
    "    \n",
    "    INI['Rankine']    = f.initialize_rankine(spdm, x=0.5, alpha=1.,                                PARAMS=PARAMS)\n",
    "    INI['Holland']    = f.initialize_holland(spdm, Lat=np.float64(ds['lat_ref']), pn=1005, pc=950, PARAMS=PARAMS)\n",
    "    INI['Willoughby'] = f.initialize_willoughby(spdm, n=1.,                                        PARAMS=PARAMS)\n",
    "    INI['Chavas']     = f.initialize_chavas(spdm, Lat=np.float64(ds['lat_ref']),                   PARAMS=PARAMS)\n",
    "    \n",
    "    FIT['Rankine']    = f.fit_rankine(r, spdm, *INI['Rankine'],                 PARAMS=PARAMS)\n",
    "    FIT['Holland']    = f.fit_holland(r, spdm, *INI['Holland'],                 PARAMS=PARAMS)\n",
    "    FIT['Willoughby'] = f.fit_willoughby_no_smooth(r, spdm, *INI['Willoughby'], PARAMS=PARAMS)\n",
    "    FIT['Chavas']     = f.fit_chavas(*INI['Chavas'],                            PARAMS=PARAMS)\n",
    "    \n",
    "    Rmax, Vmax = INI['Holland'][4], INI['Holland'][5]\n",
    "    \n",
    "    # Comparison by category, function of r_star\n",
    "    DIFF, NB_CAT = f.calculate_diff_by_cat(ds['current_category'], Rmax, r, spdm, INI, FIT, DIFF, NB_CAT, PARAMS)\n",
    "    # Compute mean fitted parameters by category\n",
    "    FIT_PARAMS   = f.calculate_fitted_params_by_cat(ds['current_category'], FIT, FIT_PARAMS, PARAMS)\n",
    "    # Scater-plots\n",
    "    RMAX_OBS, RMAX_FIT, VMAX_OBS, VMAX_FIT = f.add_to_scatter_list(ds['current_category'], r, Rmax, Vmax, FIT, RMAX_OBS, RMAX_FIT, VMAX_OBS, VMAX_FIT, PARAMS)\n",
    "    \n",
    "    # Useless\n",
    "    # f.plot_curves(i, file, r, spdm, INI, FIT, PARAMS)    # To only plot the curves\n",
    "    # f.save_curves(i, file, ds, r, spdm, INI, FIT, PARAMS) # To save the .jpg and associated .txt files\n",
    "\n",
    "# Plot the comparison\n",
    "# f.plot_comp_by_cat(DIFF, NB_CAT, PARAMS, save=PARAMS['save_comparison'])\n",
    "f.plot_fitted_params_by_cat(FIT_PARAMS, PARAMS)\n",
    "f.plot_scatter_rmax(RMAX_OBS, RMAX_FIT, PARAMS)\n",
    "f.plot_scatter_vmax(VMAX_OBS, VMAX_FIT, PARAMS)"
   ]
  },
  {
   "cell_type": "code",
   "execution_count": 5,
   "metadata": {},
   "outputs": [
    {
     "data": {
      "text/plain": [
       "[array([0]), array([3]), array([8])]"
      ]
     },
     "execution_count": 5,
     "metadata": {},
     "output_type": "execute_result"
    }
   ],
   "source": [
    "a = np.array([0.8, 0.9, 0.9, 1.1, 1.2, 1.5, 1.7, 1.9, 2.1, 2.3])\n",
    "b = [np.argwhere(a > i)[0] for i in range(0, 3)]\n",
    "b"
   ]
  },
  {
   "cell_type": "code",
   "execution_count": 6,
   "metadata": {},
   "outputs": [
    {
     "name": "stdout",
     "output_type": "stream",
     "text": [
      "cat-4\n",
      "['c', 'a', 't', '-', '4']\n"
     ]
    }
   ],
   "source": [
    "cat = np.array(ds['current_category'])\n",
    "print(cat)\n",
    "test = str(cat)\n",
    "aa = [i for i in test]\n",
    "print(aa)"
   ]
  },
  {
   "cell_type": "code",
   "execution_count": 7,
   "metadata": {},
   "outputs": [
    {
     "name": "stdout",
     "output_type": "stream",
     "text": [
      "<xarray.Dataset>\n",
      "Dimensions:                             (lat: 1000, lon: 1000, x: 1000, y: 1000)\n",
      "Coordinates:\n",
      "    x_coords                            (x, y) int64 ...\n",
      "    y_coords                            (x, y) int64 ...\n",
      "    r_polar                             (x, y) float64 707.1 706.4 ... 705.7\n",
      "    theta                               (x, y) float64 -2.356 -2.355 ... 0.7854\n",
      "    lon_coords                          (lon, lat) float64 ...\n",
      "    lat_coords                          (lon, lat) float64 ...\n",
      "Dimensions without coordinates: lat, lon, x, y\n",
      "Data variables:\n",
      "    nrcs_detrend_co                     (x, y) float32 ...\n",
      "    incidence_angle                     (x, y) float32 ...\n",
      "    nrcs_detrend_cross                  (x, y) float32 ...\n",
      "    wind_from_direction                 (x, y) float32 ...\n",
      "    nrcs_co                             (x, y) float32 ...\n",
      "    heterogeneity_mask                  (x, y) float32 ...\n",
      "    wind_streaks_orientation_stddev     (x, y) float32 ...\n",
      "    mask_flag                           (x, y) float32 ...\n",
      "    wind_speed                          (x, y) float32 nan nan nan ... nan nan\n",
      "    heading_angle                       (x, y) float32 ...\n",
      "    nrcs_cross                          (x, y) float32 ...\n",
      "    elevation_angle                     (x, y) float32 ...\n",
      "    zonal_wind                          (lon, lat) float32 ...\n",
      "    zonal_wind_parametric               (lon, lat) float64 ...\n",
      "    meridional_wind                     (lon, lat) float32 ...\n",
      "    meridional_wind_parametric          (lon, lat) float64 ...\n",
      "    across_tc_wind                      (x, y) float32 ...\n",
      "    along_tc_wind                       (x, y) float32 ...\n",
      "    radial_wind                         (x, y) float64 ...\n",
      "    tangential_wind                     (x, y) float64 nan nan nan ... nan nan\n",
      "    inflow_angle                        (x, y) float64 ...\n",
      "    inflow_angle_parametric             (x, y) float64 ...\n",
      "    across_tc_wind_parametric           (x, y) float64 ...\n",
      "    along_tc_wind_parametric            (x, y) float64 ...\n",
      "    relative_across_tc_wind             (x, y) float32 ...\n",
      "    relative_along_tc_wind              (x, y) float32 ...\n",
      "    relative_radial_wind                (x, y) float64 ...\n",
      "    relative_tangential_wind            (x, y) float64 ...\n",
      "    relative_inflow_angle               (x, y) float64 ...\n",
      "    relative_inflow_angle_parametric    (x, y) float64 ...\n",
      "    relative_across_tc_wind_parametric  (x, y) float64 ...\n",
      "    relative_along_tc_wind_parametric   (x, y) float64 ...\n",
      "    rotation_angle                      float64 ...\n",
      "    cyclone_translation_speed           float64 ...\n",
      "    current_category                    <U5 'cat-4'\n",
      "    vmax_ms                             int64 ...\n",
      "    sid                                 object ...\n",
      "    cyclone_name                        object ...\n",
      "    lon_ref                             float64 ...\n",
      "    lat_ref                             float64 17.46\n",
      "Attributes:\n",
      "    Track source file:  bep162018.dat\n",
      "    SAR source file:    s1b-ew-owi-cm-20180902t143708-20180902t143912-000003-...\n"
     ]
    }
   ],
   "source": [
    "print(ds)"
   ]
  },
  {
   "cell_type": "code",
   "execution_count": 8,
   "metadata": {},
   "outputs": [
    {
     "data": {
      "text/plain": [
       "array([0.   , 0.025, 0.05 , 0.075, 0.1  , 0.125, 0.15 , 0.175, 0.2  ,\n",
       "       0.225, 0.25 , 0.275, 0.3  , 0.325, 0.35 , 0.375, 0.4  , 0.425,\n",
       "       0.45 , 0.475, 0.5  , 0.525, 0.55 , 0.575, 0.6  , 0.625, 0.65 ,\n",
       "       0.675, 0.7  , 0.725, 0.75 , 0.775, 0.8  , 0.825, 0.85 , 0.875,\n",
       "       0.9  , 0.925, 0.95 , 0.975, 1.   , 1.025, 1.05 , 1.075, 1.1  ,\n",
       "       1.125, 1.15 , 1.175, 1.2  , 1.225, 1.25 , 1.275, 1.3  , 1.325,\n",
       "       1.35 , 1.375, 1.4  , 1.425, 1.45 , 1.475, 1.5  , 1.525, 1.55 ,\n",
       "       1.575, 1.6  , 1.625, 1.65 , 1.675, 1.7  , 1.725, 1.75 , 1.775,\n",
       "       1.8  , 1.825, 1.85 , 1.875, 1.9  , 1.925, 1.95 , 1.975, 2.   ,\n",
       "       2.025, 2.05 , 2.075, 2.1  , 2.125, 2.15 , 2.175, 2.2  , 2.225,\n",
       "       2.25 , 2.275, 2.3  , 2.325, 2.35 , 2.375, 2.4  , 2.425, 2.45 ,\n",
       "       2.475, 2.5  , 2.525, 2.55 , 2.575, 2.6  , 2.625, 2.65 , 2.675,\n",
       "       2.7  , 2.725, 2.75 , 2.775, 2.8  , 2.825, 2.85 , 2.875, 2.9  ,\n",
       "       2.925, 2.95 , 2.975, 3.   , 3.025, 3.05 , 3.075, 3.1  , 3.125,\n",
       "       3.15 , 3.175, 3.2  , 3.225, 3.25 , 3.275, 3.3  , 3.325, 3.35 ,\n",
       "       3.375, 3.4  , 3.425, 3.45 , 3.475, 3.5  , 3.525, 3.55 , 3.575,\n",
       "       3.6  , 3.625, 3.65 , 3.675, 3.7  , 3.725, 3.75 , 3.775, 3.8  ,\n",
       "       3.825, 3.85 , 3.875, 3.9  , 3.925, 3.95 , 3.975, 4.   , 4.025,\n",
       "       4.05 , 4.075, 4.1  , 4.125, 4.15 , 4.175, 4.2  , 4.225, 4.25 ,\n",
       "       4.275, 4.3  , 4.325, 4.35 , 4.375, 4.4  , 4.425, 4.45 , 4.475,\n",
       "       4.5  , 4.525, 4.55 , 4.575, 4.6  , 4.625, 4.65 , 4.675, 4.7  ,\n",
       "       4.725, 4.75 , 4.775, 4.8  , 4.825, 4.85 , 4.875, 4.9  , 4.925,\n",
       "       4.95 , 4.975, 5.   , 5.025, 5.05 , 5.075, 5.1  , 5.125, 5.15 ,\n",
       "       5.175, 5.2  , 5.225, 5.25 , 5.275, 5.3  , 5.325, 5.35 , 5.375,\n",
       "       5.4  , 5.425, 5.45 , 5.475, 5.5  , 5.525, 5.55 , 5.575, 5.6  ,\n",
       "       5.625, 5.65 , 5.675, 5.7  , 5.725, 5.75 , 5.775, 5.8  , 5.825,\n",
       "       5.85 , 5.875, 5.9  , 5.925, 5.95 , 5.975, 6.   , 6.025, 6.05 ,\n",
       "       6.075, 6.1  , 6.125, 6.15 , 6.175, 6.2  , 6.225, 6.25 , 6.275,\n",
       "       6.3  , 6.325, 6.35 , 6.375, 6.4  , 6.425, 6.45 , 6.475, 6.5  ,\n",
       "       6.525, 6.55 , 6.575, 6.6  , 6.625, 6.65 , 6.675, 6.7  , 6.725,\n",
       "       6.75 , 6.775, 6.8  , 6.825, 6.85 , 6.875, 6.9  , 6.925, 6.95 ,\n",
       "       6.975, 7.   , 7.025, 7.05 , 7.075, 7.1  , 7.125, 7.15 , 7.175,\n",
       "       7.2  , 7.225, 7.25 , 7.275, 7.3  , 7.325, 7.35 , 7.375, 7.4  ,\n",
       "       7.425, 7.45 , 7.475, 7.5  , 7.525, 7.55 , 7.575, 7.6  , 7.625,\n",
       "       7.65 , 7.675, 7.7  , 7.725, 7.75 , 7.775, 7.8  , 7.825, 7.85 ,\n",
       "       7.875, 7.9  , 7.925, 7.95 , 7.975, 8.   ])"
      ]
     },
     "execution_count": 8,
     "metadata": {},
     "output_type": "execute_result"
    }
   ],
   "source": [
    "r_star = np.linspace(0., 8., num=321)\n",
    "r_star"
   ]
  },
  {
   "cell_type": "code",
   "execution_count": 9,
   "metadata": {},
   "outputs": [
    {
     "data": {
      "text/plain": [
       "array([2.15520346, 2.1       ])"
      ]
     },
     "execution_count": 9,
     "metadata": {},
     "output_type": "execute_result"
    }
   ],
   "source": [
    "a = [list((0.68316237,  2.15520346,  0.        , 22.91755538)), list((0.1,  2.1,  0.        , 22.1))]\n",
    "b = np.array(a)\n",
    "b[:, 1]"
   ]
  },
  {
   "cell_type": "code",
   "execution_count": 10,
   "metadata": {},
   "outputs": [
    {
     "data": {
      "text/plain": [
       "array([2.15520346])"
      ]
     },
     "execution_count": 10,
     "metadata": {},
     "output_type": "execute_result"
    }
   ],
   "source": [
    "a = [[0.6831623747835103, 2.1552034600786287, 0.0, 22.917555377247815]]\n",
    "b = np.array(a)\n",
    "b[:, 1]"
   ]
  },
  {
   "cell_type": "code",
   "execution_count": 11,
   "metadata": {},
   "outputs": [
    {
     "ename": "TypeError",
     "evalue": "only integer scalar arrays can be converted to a scalar index",
     "output_type": "error",
     "traceback": [
      "\u001b[0;31m---------------------------------------------------------------------------\u001b[0m",
      "\u001b[0;31mTypeError\u001b[0m                                 Traceback (most recent call last)",
      "\u001b[0;32m<ipython-input-11-235955c6b13f>\u001b[0m in \u001b[0;36m<module>\u001b[0;34m\u001b[0m\n\u001b[1;32m      1\u001b[0m \u001b[0mtest\u001b[0m \u001b[0;34m=\u001b[0m \u001b[0mnp\u001b[0m\u001b[0;34m.\u001b[0m\u001b[0mempty\u001b[0m\u001b[0;34m(\u001b[0m\u001b[0;34m(\u001b[0m\u001b[0;36m0\u001b[0m\u001b[0;34m,\u001b[0m\u001b[0;36m0\u001b[0m\u001b[0;34m)\u001b[0m\u001b[0;34m)\u001b[0m\u001b[0;34m\u001b[0m\u001b[0;34m\u001b[0m\u001b[0m\n\u001b[0;32m----> 2\u001b[0;31m \u001b[0mnp\u001b[0m\u001b[0;34m.\u001b[0m\u001b[0mconcatenate\u001b[0m\u001b[0;34m(\u001b[0m\u001b[0mtest\u001b[0m\u001b[0;34m,\u001b[0m \u001b[0mnp\u001b[0m\u001b[0;34m.\u001b[0m\u001b[0marray\u001b[0m\u001b[0;34m(\u001b[0m\u001b[0;34m[\u001b[0m\u001b[0;36m1.\u001b[0m\u001b[0;34m,\u001b[0m \u001b[0;36m1.\u001b[0m\u001b[0;34m,\u001b[0m \u001b[0;36m1.\u001b[0m\u001b[0;34m,\u001b[0m \u001b[0;36m1.\u001b[0m\u001b[0;34m]\u001b[0m\u001b[0;34m)\u001b[0m\u001b[0;34m)\u001b[0m\u001b[0;34m\u001b[0m\u001b[0;34m\u001b[0m\u001b[0m\n\u001b[0m",
      "\u001b[0;32m<__array_function__ internals>\u001b[0m in \u001b[0;36mconcatenate\u001b[0;34m(*args, **kwargs)\u001b[0m\n",
      "\u001b[0;31mTypeError\u001b[0m: only integer scalar arrays can be converted to a scalar index"
     ]
    }
   ],
   "source": [
    "test = np.empty((0,0))\n",
    "np.concatenate(test, np.array([1., 1., 1., 1.]))"
   ]
  },
  {
   "cell_type": "code",
   "execution_count": null,
   "metadata": {},
   "outputs": [],
   "source": []
  }
 ],
 "metadata": {
  "kernelspec": {
   "display_name": "paramProfiles",
   "language": "python",
   "name": "paramprofiles"
  },
  "language_info": {
   "codemirror_mode": {
    "name": "ipython",
    "version": 3
   },
   "file_extension": ".py",
   "mimetype": "text/x-python",
   "name": "python",
   "nbconvert_exporter": "python",
   "pygments_lexer": "ipython3",
   "version": "3.8.5"
  }
 },
 "nbformat": 4,
 "nbformat_minor": 4
}
