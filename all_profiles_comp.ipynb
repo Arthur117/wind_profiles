{
 "cells": [
  {
   "cell_type": "markdown",
   "metadata": {},
   "source": [
    "# Fit Rankine, Holland, Willoughby and Chavas profiles on SAR data\n",
    "Note that so far the Rmax is searched in the first 200km around the TC center (in the code this impacts how the functions are initialized, but also when the curves are plot (on the smaller scale graph).\n",
    "\n",
    "For the fitting, we constrain Rmax > 5km which works well for a lot of TCs. \n",
    "\n",
    "In the papers of Holland, Willoughby and Chavas, the wind used is the tangential wind (same for Rankine). \n",
    "\n",
    "TODO:\n",
    "\n",
    "==> Which profiles work when? etc...\n",
    "\n"
   ]
  },
  {
   "cell_type": "code",
   "execution_count": 1,
   "metadata": {},
   "outputs": [],
   "source": [
    "import xarray as xr\n",
    "import numpy as np\n",
    "import matplotlib.pyplot as plt\n",
    "\n",
    "from scipy.interpolate import griddata\n",
    "from scipy.optimize import curve_fit\n",
    "\n",
    "import glob\n",
    "\n",
    "import functions as f"
   ]
  },
  {
   "cell_type": "code",
   "execution_count": 2,
   "metadata": {},
   "outputs": [
    {
     "name": "stdout",
     "output_type": "stream",
     "text": [
      "Total number of files: 322\n"
     ]
    }
   ],
   "source": [
    "### PATHS\n",
    "# dir_path = '/home/arthur/data/cyclobs/rotated_files/'\n",
    "dir_path = '/home/arthur/data/cyclobs/rotated_files/clean_dataset/'\n",
    "all_data = glob.glob(dir_path + \"*.nc\")\n",
    "print(\"Total number of files:\", len(all_data))\n",
    "# Savepath to be modified directly in the function\n",
    "\n",
    "### PARAMS\n",
    "PARAMS = {\n",
    "    'r_window_len':          501,  # Scale for radius (km)\n",
    "    'rmax_window':           300,  # Window in whick we look for Rmax (e.g [0, 200km])\n",
    "    'chavas_vfit':           17,\n",
    "    'rank_hol_will_vmin':    True, # Uses Vmin as a free parameter if True. If False, Vmin = 0\n",
    "    'chavas_vmin':           False, # Translates the profile from Vmin if True\n",
    "    \n",
    "    'r_Rmax_axis':           True, # If True, uses r* = r/Rmax as x-axis\n",
    "    'r_Rmax_scale':          16.,\n",
    "    'r_Rmax_num_pts':        321,\n",
    "    \n",
    "    'use_curve_fit':         True,\n",
    "    'tangential_wind_speed': True, # If False, total wind speed is used\n",
    "    'print_values':          False, \n",
    "    \n",
    "    'save_dir':              \"/home/arthur/results/windProfiles/test7/\",\n",
    "    'save_comparison':       False,\n",
    "    'save_scatter':          False\n",
    "    }"
   ]
  },
  {
   "cell_type": "code",
   "execution_count": 3,
   "metadata": {},
   "outputs": [],
   "source": [
    "# INITIALIZE DATA STRUCTURE\n",
    "INI = {           # Initial values\n",
    "    'Rankine':    [], # x, alpha, Vmin, Rmax\n",
    "    'Holland':    [], # Lat, pn, pc, Vmin, Rmax, Vmax\n",
    "    'Willoughby': [], # n, X1, Vmin, Rmax, Vmax\n",
    "    'Chavas':     []  # Vmax, Vmin, Rfit, Vfit, fcor, Cdvary, Cd, w_cool, CkCdvary, CkCd, eye_adj, alpha_eye\n",
    "    } \n",
    "FIT = {           # Fit values\n",
    "    'Rankine':    [], # x, alpha, Vmin, Rmax\n",
    "    'Holland':    [], # Lat, pn, pc, Vmin, Rmax, Vmax\n",
    "    'Willoughby': [], # n, X1, Vmin, Rmax, Vmax\n",
    "    'Chavas':     []  # rr, VV, rmax, r0, rmerge, Vmerge\n",
    "    }\n",
    "# GAP WITH OBSERVATIONS\n",
    "NB_CAT    = [None] * 6\n",
    "DIFF      = [None] * 6\n",
    "RMAX_OBS  = [None] * 6\n",
    "RMAX_FIT  = [None] * 6\n",
    "VMAX_OBS  = [None] * 6\n",
    "VMAX_FIT  = [None] * 6\n",
    "FIT_PARAMS= [None] * 6\n",
    "r_axis_length = PARAMS['r_window_len']\n",
    "if PARAMS['r_Rmax_axis']:\n",
    "    r_axis_length = PARAMS['r_Rmax_num_pts']\n",
    "for i in range(6):\n",
    "    # DIFF[0] = Storm\n",
    "    # DIFF[i] = Cat. i\n",
    "    DIFF[i] = {\n",
    "    'Rankine':    [0.] * r_axis_length,\n",
    "    'Holland':    [0.] * r_axis_length,\n",
    "    'Willoughby': [0.] * r_axis_length,\n",
    "    'Chavas':     [0.] * r_axis_length \n",
    "    }\n",
    "    NB_CAT[i] = {\n",
    "    'Rank-Hol-Will': [0.] * r_axis_length,\n",
    "    'Chavas':        [0.] * r_axis_length \n",
    "    }\n",
    "    RMAX_OBS[i] = []\n",
    "    RMAX_FIT[i] = {\n",
    "    'Rankine':    [],\n",
    "    'Holland':    [],\n",
    "    'Willoughby': [],\n",
    "    'Chavas':     [] \n",
    "    }\n",
    "    VMAX_OBS[i] = []\n",
    "    VMAX_FIT[i] = {\n",
    "    'Rankine':    [],\n",
    "    'Holland':    [],\n",
    "    'Willoughby': [],\n",
    "    'Chavas':     [] \n",
    "    }\n",
    "    FIT_PARAMS[i] = {\n",
    "    'Rankine':    [],\n",
    "    'Holland':    [],\n",
    "    'Willoughby': [],\n",
    "    'Chavas':     [] \n",
    "    }"
   ]
  },
  {
   "cell_type": "code",
   "execution_count": 4,
   "metadata": {},
   "outputs": [
    {
     "name": "stdout",
     "output_type": "stream",
     "text": [
      "1 =>     /home/arthur/data/cyclobs/rotated_files/clean_dataset/s1b-ew-owi-cm-20180902t143708-20180902t143912-000003-01720F_ll_gd_rotated.nc\n"
     ]
    },
    {
     "name": "stderr",
     "output_type": "stream",
     "text": [
      "/home/arthur/scripts/windProfiles/symmetric/functions.py:274: RuntimeWarning: divide by zero encountered in true_divide\n",
      "  V_ER11 = (1. / rr_ER11) * (Vmax * rmax + .5 * fcor * rmax ** 2) * ((2 * (rr_ER11 / rmax) ** 2) / (2 - CkCd + CkCd * (rr_ER11 / rmax) ** 2)) ** (1 / (2 - CkCd)) - .5 * fcor * rr_ER11\n",
      "/home/arthur/scripts/windProfiles/symmetric/functions.py:274: RuntimeWarning: invalid value encountered in multiply\n",
      "  V_ER11 = (1. / rr_ER11) * (Vmax * rmax + .5 * fcor * rmax ** 2) * ((2 * (rr_ER11 / rmax) ** 2) / (2 - CkCd + CkCd * (rr_ER11 / rmax) ** 2)) ** (1 / (2 - CkCd)) - .5 * fcor * rr_ER11\n",
      "/home/arthur/scripts/windProfiles/symmetric/functions.py:188: RuntimeWarning: invalid value encountered in true_divide\n",
      "  VV = (Mm / rmax) * (MMfracMm / rrfracrm) - .5 * fcor * rmax * rrfracrm #[ms-1]\n"
     ]
    },
    {
     "name": "stdout",
     "output_type": "stream",
     "text": [
      "2 =>     /home/arthur/data/cyclobs/rotated_files/clean_dataset/rs2--owi-cm-20150601t015945-20150601t020101-00003-BDBF8_ll_gd_rotated.nc\n",
      "3 =>     /home/arthur/data/cyclobs/rotated_files/clean_dataset/s1a-ew-owi-cm-20160827t092124-20160827t092414-000003-014249_ll_gd_rotated.nc\n",
      "4 =>     /home/arthur/data/cyclobs/rotated_files/clean_dataset/s1a-ew-owi-cm-20170207t015253-20170207t015558-000003-018D33_ll_gd_rotated.nc\n"
     ]
    },
    {
     "ename": "KeyboardInterrupt",
     "evalue": "",
     "output_type": "error",
     "traceback": [
      "\u001b[0;31m---------------------------------------------------------------------------\u001b[0m",
      "\u001b[0;31mKeyboardInterrupt\u001b[0m                         Traceback (most recent call last)",
      "\u001b[0;32m<ipython-input-4-7eec118e2a1a>\u001b[0m in \u001b[0;36m<module>\u001b[0;34m\u001b[0m\n\u001b[1;32m     29\u001b[0m     \u001b[0mFIT\u001b[0m\u001b[0;34m[\u001b[0m\u001b[0;34m'Holland'\u001b[0m\u001b[0;34m]\u001b[0m    \u001b[0;34m=\u001b[0m \u001b[0mf\u001b[0m\u001b[0;34m.\u001b[0m\u001b[0mfit_holland\u001b[0m\u001b[0;34m(\u001b[0m\u001b[0mr\u001b[0m\u001b[0;34m,\u001b[0m \u001b[0mspdm\u001b[0m\u001b[0;34m,\u001b[0m \u001b[0;34m*\u001b[0m\u001b[0mINI\u001b[0m\u001b[0;34m[\u001b[0m\u001b[0;34m'Holland'\u001b[0m\u001b[0;34m]\u001b[0m\u001b[0;34m,\u001b[0m                 \u001b[0mPARAMS\u001b[0m\u001b[0;34m=\u001b[0m\u001b[0mPARAMS\u001b[0m\u001b[0;34m)\u001b[0m\u001b[0;34m\u001b[0m\u001b[0;34m\u001b[0m\u001b[0m\n\u001b[1;32m     30\u001b[0m     \u001b[0mFIT\u001b[0m\u001b[0;34m[\u001b[0m\u001b[0;34m'Willoughby'\u001b[0m\u001b[0;34m]\u001b[0m \u001b[0;34m=\u001b[0m \u001b[0mf\u001b[0m\u001b[0;34m.\u001b[0m\u001b[0mfit_willoughby_no_smooth\u001b[0m\u001b[0;34m(\u001b[0m\u001b[0mr\u001b[0m\u001b[0;34m,\u001b[0m \u001b[0mspdm\u001b[0m\u001b[0;34m,\u001b[0m \u001b[0;34m*\u001b[0m\u001b[0mINI\u001b[0m\u001b[0;34m[\u001b[0m\u001b[0;34m'Willoughby'\u001b[0m\u001b[0;34m]\u001b[0m\u001b[0;34m,\u001b[0m \u001b[0mPARAMS\u001b[0m\u001b[0;34m=\u001b[0m\u001b[0mPARAMS\u001b[0m\u001b[0;34m)\u001b[0m\u001b[0;34m\u001b[0m\u001b[0;34m\u001b[0m\u001b[0m\n\u001b[0;32m---> 31\u001b[0;31m     \u001b[0mFIT\u001b[0m\u001b[0;34m[\u001b[0m\u001b[0;34m'Chavas'\u001b[0m\u001b[0;34m]\u001b[0m     \u001b[0;34m=\u001b[0m \u001b[0mf\u001b[0m\u001b[0;34m.\u001b[0m\u001b[0mfit_chavas\u001b[0m\u001b[0;34m(\u001b[0m\u001b[0;34m*\u001b[0m\u001b[0mINI\u001b[0m\u001b[0;34m[\u001b[0m\u001b[0;34m'Chavas'\u001b[0m\u001b[0;34m]\u001b[0m\u001b[0;34m,\u001b[0m                            \u001b[0mPARAMS\u001b[0m\u001b[0;34m=\u001b[0m\u001b[0mPARAMS\u001b[0m\u001b[0;34m)\u001b[0m\u001b[0;34m\u001b[0m\u001b[0;34m\u001b[0m\u001b[0m\n\u001b[0m\u001b[1;32m     32\u001b[0m \u001b[0;34m\u001b[0m\u001b[0m\n\u001b[1;32m     33\u001b[0m     \u001b[0mRmax\u001b[0m\u001b[0;34m,\u001b[0m \u001b[0mVmax\u001b[0m \u001b[0;34m=\u001b[0m \u001b[0mINI\u001b[0m\u001b[0;34m[\u001b[0m\u001b[0;34m'Holland'\u001b[0m\u001b[0;34m]\u001b[0m\u001b[0;34m[\u001b[0m\u001b[0;36m4\u001b[0m\u001b[0;34m]\u001b[0m\u001b[0;34m,\u001b[0m \u001b[0mINI\u001b[0m\u001b[0;34m[\u001b[0m\u001b[0;34m'Holland'\u001b[0m\u001b[0;34m]\u001b[0m\u001b[0;34m[\u001b[0m\u001b[0;36m5\u001b[0m\u001b[0;34m]\u001b[0m\u001b[0;34m\u001b[0m\u001b[0;34m\u001b[0m\u001b[0m\n",
      "\u001b[0;32m~/scripts/windProfiles/symmetric/functions.py\u001b[0m in \u001b[0;36mfit_chavas\u001b[0;34m(Vmax, Vmin, Rfit, Vfit, fcor, Cdvary, Cd, w_cool, CkCdvary, CkCd, eye_adj, alpha_eye, PARAMS)\u001b[0m\n\u001b[1;32m    412\u001b[0m         \u001b[0mVmax\u001b[0m \u001b[0;34m-=\u001b[0m \u001b[0mVmin\u001b[0m\u001b[0;34m\u001b[0m\u001b[0;34m\u001b[0m\u001b[0m\n\u001b[1;32m    413\u001b[0m         \u001b[0mVfit\u001b[0m \u001b[0;34m-=\u001b[0m \u001b[0mVmin\u001b[0m\u001b[0;34m\u001b[0m\u001b[0;34m\u001b[0m\u001b[0m\n\u001b[0;32m--> 414\u001b[0;31m     \u001b[0mrr\u001b[0m\u001b[0;34m,\u001b[0m \u001b[0mVV\u001b[0m\u001b[0;34m,\u001b[0m \u001b[0mrmax\u001b[0m\u001b[0;34m,\u001b[0m \u001b[0mr0\u001b[0m\u001b[0;34m,\u001b[0m \u001b[0mrmerge\u001b[0m\u001b[0;34m,\u001b[0m \u001b[0mVmerge\u001b[0m \u001b[0;34m=\u001b[0m \u001b[0mER11E04_nondim_rfitinput\u001b[0m\u001b[0;34m(\u001b[0m\u001b[0mVmax\u001b[0m\u001b[0;34m,\u001b[0m \u001b[0mRfit\u001b[0m\u001b[0;34m,\u001b[0m \u001b[0mVfit\u001b[0m\u001b[0;34m,\u001b[0m \u001b[0mfcor\u001b[0m\u001b[0;34m,\u001b[0m \u001b[0mCdvary\u001b[0m\u001b[0;34m,\u001b[0m \u001b[0mCd\u001b[0m\u001b[0;34m,\u001b[0m \u001b[0mw_cool\u001b[0m\u001b[0;34m,\u001b[0m \u001b[0mCkCdvary\u001b[0m\u001b[0;34m,\u001b[0m \u001b[0mCkCd\u001b[0m\u001b[0;34m,\u001b[0m \u001b[0meye_adj\u001b[0m\u001b[0;34m,\u001b[0m \u001b[0malpha_eye\u001b[0m\u001b[0;34m)\u001b[0m\u001b[0;34m\u001b[0m\u001b[0;34m\u001b[0m\u001b[0m\n\u001b[0m\u001b[1;32m    415\u001b[0m     \u001b[0;32mif\u001b[0m \u001b[0mPARAMS\u001b[0m\u001b[0;34m[\u001b[0m\u001b[0;34m'print_values'\u001b[0m\u001b[0;34m]\u001b[0m\u001b[0;34m:\u001b[0m\u001b[0;34m\u001b[0m\u001b[0;34m\u001b[0m\u001b[0m\n\u001b[1;32m    416\u001b[0m         print(\n",
      "\u001b[0;32m~/scripts/windProfiles/symmetric/functions.py\u001b[0m in \u001b[0;36mER11E04_nondim_rfitinput\u001b[0;34m(Vmax, rfit, Vfit, fcor, Cdvary, C_d, w_cool, CkCdvary, CkCd, eye_adj, alpha_eye)\u001b[0m\n\u001b[1;32m     88\u001b[0m \u001b[0;34m\u001b[0m\u001b[0m\n\u001b[1;32m     89\u001b[0m                     \u001b[0ml1\u001b[0m \u001b[0;34m=\u001b[0m \u001b[0mLineString\u001b[0m\u001b[0;34m(\u001b[0m\u001b[0mzip\u001b[0m\u001b[0;34m(\u001b[0m\u001b[0mrrfracr0_E04\u001b[0m \u001b[0;34m,\u001b[0m \u001b[0mMMfracM0_E04\u001b[0m\u001b[0;34m)\u001b[0m\u001b[0;34m)\u001b[0m\u001b[0;34m\u001b[0m\u001b[0;34m\u001b[0m\u001b[0m\n\u001b[0;32m---> 90\u001b[0;31m                     \u001b[0ml2\u001b[0m \u001b[0;34m=\u001b[0m \u001b[0mLineString\u001b[0m\u001b[0;34m(\u001b[0m\u001b[0mzip\u001b[0m\u001b[0;34m(\u001b[0m\u001b[0mrrfracr0_ER11\u001b[0m \u001b[0;34m,\u001b[0m \u001b[0mMMfracM0_ER11\u001b[0m\u001b[0;34m)\u001b[0m\u001b[0;34m)\u001b[0m\u001b[0;34m\u001b[0m\u001b[0;34m\u001b[0m\u001b[0m\n\u001b[0m\u001b[1;32m     91\u001b[0m                     \u001b[0mintersection\u001b[0m \u001b[0;34m=\u001b[0m \u001b[0ml1\u001b[0m\u001b[0;34m.\u001b[0m\u001b[0mintersection\u001b[0m\u001b[0;34m(\u001b[0m\u001b[0ml2\u001b[0m\u001b[0;34m)\u001b[0m\u001b[0;34m\u001b[0m\u001b[0;34m\u001b[0m\u001b[0m\n\u001b[1;32m     92\u001b[0m                     \u001b[0;31m#if intersection.wkt == 'GEOMETRYCOLLECTION EMPTY':   ##no intersections r0 too large --> rmaxr0 too small\u001b[0m\u001b[0;34m\u001b[0m\u001b[0;34m\u001b[0m\u001b[0;34m\u001b[0m\u001b[0m\n",
      "\u001b[0;32m~/anaconda3/envs/paramProfiles/lib/python3.8/site-packages/shapely/geometry/linestring.py\u001b[0m in \u001b[0;36m__init__\u001b[0;34m(self, coordinates)\u001b[0m\n\u001b[1;32m     46\u001b[0m         \u001b[0mBaseGeometry\u001b[0m\u001b[0;34m.\u001b[0m\u001b[0m__init__\u001b[0m\u001b[0;34m(\u001b[0m\u001b[0mself\u001b[0m\u001b[0;34m)\u001b[0m\u001b[0;34m\u001b[0m\u001b[0;34m\u001b[0m\u001b[0m\n\u001b[1;32m     47\u001b[0m         \u001b[0;32mif\u001b[0m \u001b[0mcoordinates\u001b[0m \u001b[0;32mis\u001b[0m \u001b[0;32mnot\u001b[0m \u001b[0;32mNone\u001b[0m\u001b[0;34m:\u001b[0m\u001b[0;34m\u001b[0m\u001b[0;34m\u001b[0m\u001b[0m\n\u001b[0;32m---> 48\u001b[0;31m             \u001b[0mself\u001b[0m\u001b[0;34m.\u001b[0m\u001b[0m_set_coords\u001b[0m\u001b[0;34m(\u001b[0m\u001b[0mcoordinates\u001b[0m\u001b[0;34m)\u001b[0m\u001b[0;34m\u001b[0m\u001b[0;34m\u001b[0m\u001b[0m\n\u001b[0m\u001b[1;32m     49\u001b[0m \u001b[0;34m\u001b[0m\u001b[0m\n\u001b[1;32m     50\u001b[0m     \u001b[0;34m@\u001b[0m\u001b[0mproperty\u001b[0m\u001b[0;34m\u001b[0m\u001b[0;34m\u001b[0m\u001b[0m\n",
      "\u001b[0;32m~/anaconda3/envs/paramProfiles/lib/python3.8/site-packages/shapely/geometry/linestring.py\u001b[0m in \u001b[0;36m_set_coords\u001b[0;34m(self, coordinates)\u001b[0m\n\u001b[1;32m     95\u001b[0m     \u001b[0;32mdef\u001b[0m \u001b[0m_set_coords\u001b[0m\u001b[0;34m(\u001b[0m\u001b[0mself\u001b[0m\u001b[0;34m,\u001b[0m \u001b[0mcoordinates\u001b[0m\u001b[0;34m)\u001b[0m\u001b[0;34m:\u001b[0m\u001b[0;34m\u001b[0m\u001b[0;34m\u001b[0m\u001b[0m\n\u001b[1;32m     96\u001b[0m         \u001b[0mself\u001b[0m\u001b[0;34m.\u001b[0m\u001b[0mempty\u001b[0m\u001b[0;34m(\u001b[0m\u001b[0;34m)\u001b[0m\u001b[0;34m\u001b[0m\u001b[0;34m\u001b[0m\u001b[0m\n\u001b[0;32m---> 97\u001b[0;31m         \u001b[0mret\u001b[0m \u001b[0;34m=\u001b[0m \u001b[0mgeos_linestring_from_py\u001b[0m\u001b[0;34m(\u001b[0m\u001b[0mcoordinates\u001b[0m\u001b[0;34m)\u001b[0m\u001b[0;34m\u001b[0m\u001b[0;34m\u001b[0m\u001b[0m\n\u001b[0m\u001b[1;32m     98\u001b[0m         \u001b[0;32mif\u001b[0m \u001b[0mret\u001b[0m \u001b[0;32mis\u001b[0m \u001b[0;32mnot\u001b[0m \u001b[0;32mNone\u001b[0m\u001b[0;34m:\u001b[0m\u001b[0;34m\u001b[0m\u001b[0;34m\u001b[0m\u001b[0m\n\u001b[1;32m     99\u001b[0m             \u001b[0mself\u001b[0m\u001b[0;34m.\u001b[0m\u001b[0m_geom\u001b[0m\u001b[0;34m,\u001b[0m \u001b[0mself\u001b[0m\u001b[0;34m.\u001b[0m\u001b[0m_ndim\u001b[0m \u001b[0;34m=\u001b[0m \u001b[0mret\u001b[0m\u001b[0;34m\u001b[0m\u001b[0;34m\u001b[0m\u001b[0m\n",
      "\u001b[0;31mKeyboardInterrupt\u001b[0m: "
     ]
    }
   ],
   "source": [
    "### ======================= WITHOUT QUADRANT ======================= \n",
    "# FIT AND PRINT ALL THE PROFILES ON ALL THE DATA\n",
    "i   = 0\n",
    "for file in all_data[:2]:\n",
    "    i += 1\n",
    "    print(i, \"=>    \", file)\n",
    "    # Open file and compute mean wind speed\n",
    "    ds      = xr.open_dataset(file)\n",
    "    if PARAMS['tangential_wind_speed']:\n",
    "        spdm = f.compute_mean_tangential_wind_spd(ds, r_window_len=PARAMS['r_window_len']) # TANGENTIAL WIND SPEED\n",
    "    else:\n",
    "        spdm = f.compute_mean_wind_spd(ds, r_window_len=PARAMS['r_window_len'])            # TOTAL WIND SPEED\n",
    "    \n",
    "    # Debug\n",
    "    if 1 == 0: # DEBUG\n",
    "        f.print_ds(ds)\n",
    "        f.print_spd(ds)\n",
    "        print(spdm)\n",
    "    \n",
    "    # Initialize and fit profile\n",
    "    r, spdm, first_valid_index = f.initialize_radius(spdm)\n",
    "    \n",
    "    INI['Rankine']    = f.initialize_rankine(spdm, x=0.5, alpha=1.,                                PARAMS=PARAMS)\n",
    "    INI['Holland']    = f.initialize_holland(spdm, Lat=np.float64(ds['lat_ref']), pn=1005, pc=950, PARAMS=PARAMS)\n",
    "    INI['Willoughby'] = f.initialize_willoughby(spdm, n=1.,                                        PARAMS=PARAMS)\n",
    "    INI['Chavas']     = f.initialize_chavas(spdm, Lat=np.float64(ds['lat_ref']),                   PARAMS=PARAMS)\n",
    "    \n",
    "    FIT['Rankine']    = f.fit_rankine(r, spdm, *INI['Rankine'],                 PARAMS=PARAMS)\n",
    "    FIT['Holland']    = f.fit_holland(r, spdm, *INI['Holland'],                 PARAMS=PARAMS)\n",
    "    FIT['Willoughby'] = f.fit_willoughby_no_smooth(r, spdm, *INI['Willoughby'], PARAMS=PARAMS)\n",
    "    FIT['Chavas']     = f.fit_chavas(*INI['Chavas'],                            PARAMS=PARAMS)\n",
    "    \n",
    "    Rmax, Vmax = INI['Holland'][4], INI['Holland'][5]\n",
    "    \n",
    "    # Comparison by category, function of r_star\n",
    "    DIFF, NB_CAT = f.calculate_diff_by_cat(ds['current_category'], Rmax, r, spdm, INI, FIT, DIFF, NB_CAT, PARAMS)\n",
    "    # Compute mean fitted parameters by category\n",
    "    FIT_PARAMS   = f.calculate_fitted_params_by_cat(ds['current_category'], FIT, FIT_PARAMS, PARAMS)\n",
    "    # Scater-plots\n",
    "    RMAX_OBS, RMAX_FIT, VMAX_OBS, VMAX_FIT = f.add_to_scatter_list(ds['current_category'], r, Rmax, Vmax, FIT, RMAX_OBS, RMAX_FIT, VMAX_OBS, VMAX_FIT, PARAMS)\n",
    "\n",
    "### Plot the comparison\n",
    "# f.plot_comp_by_cat(DIFF, NB_CAT, PARAMS, save=PARAMS['save_comparison'])\n",
    "# f.plot_fitted_params_by_cat(FIT_PARAMS, PARAMS)\n",
    "f.plot_scatter_rmax(RMAX_OBS, RMAX_FIT, PARAMS)\n",
    "f.plot_scatter_vmax(VMAX_OBS, VMAX_FIT, PARAMS)"
   ]
  },
  {
   "cell_type": "code",
   "execution_count": null,
   "metadata": {},
   "outputs": [],
   "source": [
    "a = np.array([0.8, 0.9, 0.9, 1.1, 1.2, 1.5, 1.7, 1.9, 2.1, 2.3])\n",
    "b = [np.argwhere(a > i)[0] for i in range(0, 3)]\n",
    "b"
   ]
  },
  {
   "cell_type": "code",
   "execution_count": null,
   "metadata": {},
   "outputs": [],
   "source": [
    "cat = np.array(ds['current_category'])\n",
    "print(cat)\n",
    "test = str(cat)\n",
    "aa = [i for i in test]\n",
    "print(aa)"
   ]
  },
  {
   "cell_type": "code",
   "execution_count": null,
   "metadata": {},
   "outputs": [],
   "source": [
    "print(ds)"
   ]
  },
  {
   "cell_type": "code",
   "execution_count": null,
   "metadata": {},
   "outputs": [],
   "source": [
    "r_star = np.linspace(0., 8., num=321)\n",
    "r_star"
   ]
  },
  {
   "cell_type": "code",
   "execution_count": null,
   "metadata": {},
   "outputs": [],
   "source": [
    "r2 = 1.002355765\n",
    "st = 'R^2 = {:.2f}'.format(r2)"
   ]
  },
  {
   "cell_type": "code",
   "execution_count": null,
   "metadata": {},
   "outputs": [],
   "source": []
  }
 ],
 "metadata": {
  "kernelspec": {
   "display_name": "paramProfiles",
   "language": "python",
   "name": "paramprofiles"
  },
  "language_info": {
   "codemirror_mode": {
    "name": "ipython",
    "version": 3
   },
   "file_extension": ".py",
   "mimetype": "text/x-python",
   "name": "python",
   "nbconvert_exporter": "python",
   "pygments_lexer": "ipython3",
   "version": "3.8.5"
  }
 },
 "nbformat": 4,
 "nbformat_minor": 4
}
