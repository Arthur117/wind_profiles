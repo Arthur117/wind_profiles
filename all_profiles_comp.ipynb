{
 "cells": [
  {
   "cell_type": "markdown",
   "metadata": {},
   "source": [
    "# Fit Rankine, Holland, Willoughby and Chavas profiles on SAR data\n",
    "Note that so far the Rmax is searched in the first 200km around the TC center (in the code this impacts how the functions are initialized, but also when the curves are plot (on the smaller scale graph).\n",
    "\n",
    "For the fitting, we constrain Rmax > 5km which works well for a lot of TCs. \n",
    "\n",
    "In the papers of Holland, Willoughby and Chavas, the wind used is the tangential wind (same for Rankine). \n",
    "\n",
    "TODO:\n",
    "\n",
    "==> Which profiles work when? etc...\n",
    "\n"
   ]
  },
  {
   "cell_type": "code",
   "execution_count": 1,
   "metadata": {},
   "outputs": [],
   "source": [
    "import xarray as xr\n",
    "import numpy as np\n",
    "import matplotlib.pyplot as plt\n",
    "\n",
    "from scipy.interpolate import griddata\n",
    "from scipy.optimize import curve_fit\n",
    "\n",
    "import glob\n",
    "\n",
    "import functions as f"
   ]
  },
  {
   "cell_type": "code",
   "execution_count": 2,
   "metadata": {},
   "outputs": [
    {
     "name": "stdout",
     "output_type": "stream",
     "text": [
      "Total number of files: 322\n"
     ]
    }
   ],
   "source": [
    "### PATHS\n",
    "# dir_path = '/home/arthur/data/cyclobs/rotated_files/'\n",
    "dir_path = '/home/arthur/data/cyclobs/rotated_files/clean_dataset/'\n",
    "all_data = glob.glob(dir_path + \"*.nc\")\n",
    "print(\"Total number of files:\", len(all_data))\n",
    "# Savepath to be modified directly in the function\n",
    "\n",
    "### PARAMS\n",
    "PARAMS = {\n",
    "    'r_window_len':          501,  # Scale for radius (km)\n",
    "    'rmax_window':           300,  # Window in whick we look for Rmax (e.g [0, 200km])\n",
    "    'chavas_vfit':           17,\n",
    "    'rank_hol_will_vmin':    False, # Uses Vmin as a free parameter if True. If False, Vmin = 0\n",
    "    'chavas_vmin':           False, # Translates the profile from Vmin if True\n",
    "    \n",
    "    'r_Rmax_axis':           True, # If True, uses r* = r/Rmax as x-axis\n",
    "    'r_Rmax_scale':          16.,\n",
    "    'r_Rmax_num_pts':        321,\n",
    "    \n",
    "    'use_curve_fit':         True,\n",
    "    'tangential_wind_speed': True, # If False, total wind speed is used\n",
    "    'print_values':          False, \n",
    "    \n",
    "    'save_dir':              \"/home/arthur/results/windProfiles/test3/\",\n",
    "    'save_comparison':       False,\n",
    "    'save_scatter':          True\n",
    "    }"
   ]
  },
  {
   "cell_type": "code",
   "execution_count": 3,
   "metadata": {},
   "outputs": [],
   "source": [
    "# INITIALIZE DATA STRUCTURE\n",
    "INI = {           # Initial values\n",
    "    'Rankine':    [], # x, alpha, Vmin, Rmax\n",
    "    'Holland':    [], # Lat, pn, pc, Vmin, Rmax, Vmax\n",
    "    'Willoughby': [], # n, X1, Vmin, Rmax, Vmax\n",
    "    'Chavas':     []  # Vmax, Vmin, Rfit, Vfit, fcor, Cdvary, Cd, w_cool, CkCdvary, CkCd, eye_adj, alpha_eye\n",
    "    } \n",
    "FIT = {           # Fit values\n",
    "    'Rankine':    [], # x, alpha, Vmin, Rmax\n",
    "    'Holland':    [], # Lat, pn, pc, Vmin, Rmax, Vmax\n",
    "    'Willoughby': [], # n, X1, Vmin, Rmax, Vmax\n",
    "    'Chavas':     []  # rr, VV, rmax, r0, rmerge, Vmerge\n",
    "    }\n",
    "# GAP WITH OBSERVATIONS\n",
    "NB_CAT   = [None] * 6\n",
    "DIFF     = [None] * 6\n",
    "RMAX_OBS = [None] * 6\n",
    "RMAX_FIT = [None] * 6\n",
    "VMAX_OBS = [None] * 6\n",
    "VMAX_FIT = [None] * 6\n",
    "r_axis_length = PARAMS['r_window_len']\n",
    "if PARAMS['r_Rmax_axis']:\n",
    "    r_axis_length = PARAMS['r_Rmax_num_pts']\n",
    "for i in range(6):\n",
    "    # DIFF[0] = Storm\n",
    "    # DIFF[i] = Cat. i\n",
    "    DIFF[i] = {\n",
    "    'Rankine':    [0.] * r_axis_length,\n",
    "    'Holland':    [0.] * r_axis_length,\n",
    "    'Willoughby': [0.] * r_axis_length,\n",
    "    'Chavas':     [0.] * r_axis_length \n",
    "    }\n",
    "    NB_CAT[i] = {\n",
    "    'Rank-Hol-Will': [0.] * r_axis_length,\n",
    "    'Chavas':        [0.] * r_axis_length \n",
    "    }\n",
    "    RMAX_OBS[i] = []\n",
    "    RMAX_FIT[i] = {\n",
    "    'Rankine':    [],\n",
    "    'Holland':    [],\n",
    "    'Willoughby': [],\n",
    "    'Chavas':     [] \n",
    "    }\n",
    "    VMAX_OBS[i] = []\n",
    "    VMAX_FIT[i] = {\n",
    "    'Rankine':    [],\n",
    "    'Holland':    [],\n",
    "    'Willoughby': [],\n",
    "    'Chavas':     [] \n",
    "    }"
   ]
  },
  {
   "cell_type": "code",
   "execution_count": 4,
   "metadata": {},
   "outputs": [
    {
     "name": "stdout",
     "output_type": "stream",
     "text": [
      "1 =>     /home/arthur/data/cyclobs/rotated_files/clean_dataset/s1b-ew-owi-cm-20180902t143708-20180902t143912-000003-01720F_ll_gd_rotated.nc\n"
     ]
    },
    {
     "name": "stderr",
     "output_type": "stream",
     "text": [
      "/home/arthur/scripts/windProfiles/symmetric/functions.py:274: RuntimeWarning: divide by zero encountered in true_divide\n",
      "  V_ER11 = (1. / rr_ER11) * (Vmax * rmax + .5 * fcor * rmax ** 2) * ((2 * (rr_ER11 / rmax) ** 2) / (2 - CkCd + CkCd * (rr_ER11 / rmax) ** 2)) ** (1 / (2 - CkCd)) - .5 * fcor * rr_ER11\n",
      "/home/arthur/scripts/windProfiles/symmetric/functions.py:274: RuntimeWarning: invalid value encountered in multiply\n",
      "  V_ER11 = (1. / rr_ER11) * (Vmax * rmax + .5 * fcor * rmax ** 2) * ((2 * (rr_ER11 / rmax) ** 2) / (2 - CkCd + CkCd * (rr_ER11 / rmax) ** 2)) ** (1 / (2 - CkCd)) - .5 * fcor * rr_ER11\n",
      "/home/arthur/scripts/windProfiles/symmetric/functions.py:188: RuntimeWarning: invalid value encountered in true_divide\n",
      "  VV = (Mm / rmax) * (MMfracMm / rrfracrm) - .5 * fcor * rmax * rrfracrm #[ms-1]\n"
     ]
    },
    {
     "name": "stdout",
     "output_type": "stream",
     "text": [
      "2 =>     /home/arthur/data/cyclobs/rotated_files/clean_dataset/rs2--owi-cm-20150601t015945-20150601t020101-00003-BDBF8_ll_gd_rotated.nc\n",
      "3 =>     /home/arthur/data/cyclobs/rotated_files/clean_dataset/s1a-ew-owi-cm-20160827t092124-20160827t092414-000003-014249_ll_gd_rotated.nc\n",
      "4 =>     /home/arthur/data/cyclobs/rotated_files/clean_dataset/s1a-ew-owi-cm-20170207t015253-20170207t015558-000003-018D33_ll_gd_rotated.nc\n",
      "5 =>     /home/arthur/data/cyclobs/rotated_files/clean_dataset/rs2--owi-cm-20150509t232412-20150509t232525-00003-E0BD7_ll_gd_rotated.nc\n"
     ]
    },
    {
     "name": "stderr",
     "output_type": "stream",
     "text": [
      "/home/arthur/scripts/windProfiles/symmetric/functions.py:633: RuntimeWarning: Mean of empty slice\n",
      "  spdm_ch= np.nanmean(spd, axis=0)\n",
      "/home/arthur/scripts/windProfiles/symmetric/functions.py:480: RuntimeWarning: overflow encountered in double_scalars\n",
      "  A     = Rmax ** B\n",
      "/home/arthur/scripts/windProfiles/symmetric/functions.py:483: RuntimeWarning: overflow encountered in power\n",
      "  V   = Vmin + np.sqrt(A * B * (pn - pc) * np.exp((-1) * A / (r ** B)) / (rho * r ** B) + (r ** 2 * fcor ** 2) / 4) - (r * fcor / 2)\n",
      "/home/arthur/scripts/windProfiles/symmetric/functions.py:483: RuntimeWarning: invalid value encountered in true_divide\n",
      "  V   = Vmin + np.sqrt(A * B * (pn - pc) * np.exp((-1) * A / (r ** B)) / (rho * r ** B) + (r ** 2 * fcor ** 2) / 4) - (r * fcor / 2)\n",
      "/home/arthur/scripts/windProfiles/symmetric/functions.py:483: RuntimeWarning: invalid value encountered in multiply\n",
      "  V   = Vmin + np.sqrt(A * B * (pn - pc) * np.exp((-1) * A / (r ** B)) / (rho * r ** B) + (r ** 2 * fcor ** 2) / 4) - (r * fcor / 2)\n"
     ]
    },
    {
     "name": "stdout",
     "output_type": "stream",
     "text": [
      "6 =>     /home/arthur/data/cyclobs/rotated_files/clean_dataset/s1a-ew-owi-cm-20181002t211106-20181002t211310-000003-029DF5_ll_gd_rotated.nc\n"
     ]
    },
    {
     "ename": "KeyboardInterrupt",
     "evalue": "",
     "output_type": "error",
     "traceback": [
      "\u001b[0;31m---------------------------------------------------------------------------\u001b[0m",
      "\u001b[0;31mKeyboardInterrupt\u001b[0m                         Traceback (most recent call last)",
      "\u001b[0;32m<ipython-input-4-e939f9594499>\u001b[0m in \u001b[0;36m<module>\u001b[0;34m\u001b[0m\n\u001b[1;32m      7\u001b[0m     \u001b[0mds\u001b[0m      \u001b[0;34m=\u001b[0m \u001b[0mxr\u001b[0m\u001b[0;34m.\u001b[0m\u001b[0mopen_dataset\u001b[0m\u001b[0;34m(\u001b[0m\u001b[0mfile\u001b[0m\u001b[0;34m)\u001b[0m\u001b[0;34m\u001b[0m\u001b[0;34m\u001b[0m\u001b[0m\n\u001b[1;32m      8\u001b[0m     \u001b[0;32mif\u001b[0m \u001b[0mPARAMS\u001b[0m\u001b[0;34m[\u001b[0m\u001b[0;34m'tangential_wind_speed'\u001b[0m\u001b[0;34m]\u001b[0m\u001b[0;34m:\u001b[0m\u001b[0;34m\u001b[0m\u001b[0;34m\u001b[0m\u001b[0m\n\u001b[0;32m----> 9\u001b[0;31m         \u001b[0mspdm\u001b[0m \u001b[0;34m=\u001b[0m \u001b[0mf\u001b[0m\u001b[0;34m.\u001b[0m\u001b[0mcompute_mean_tangential_wind_spd\u001b[0m\u001b[0;34m(\u001b[0m\u001b[0mds\u001b[0m\u001b[0;34m,\u001b[0m \u001b[0mr_window_len\u001b[0m\u001b[0;34m=\u001b[0m\u001b[0mPARAMS\u001b[0m\u001b[0;34m[\u001b[0m\u001b[0;34m'r_window_len'\u001b[0m\u001b[0;34m]\u001b[0m\u001b[0;34m)\u001b[0m \u001b[0;31m# TANGENTIAL WIND SPEED\u001b[0m\u001b[0;34m\u001b[0m\u001b[0;34m\u001b[0m\u001b[0m\n\u001b[0m\u001b[1;32m     10\u001b[0m     \u001b[0;32melse\u001b[0m\u001b[0;34m:\u001b[0m\u001b[0;34m\u001b[0m\u001b[0;34m\u001b[0m\u001b[0m\n\u001b[1;32m     11\u001b[0m         \u001b[0mspdm\u001b[0m \u001b[0;34m=\u001b[0m \u001b[0mf\u001b[0m\u001b[0;34m.\u001b[0m\u001b[0mcompute_mean_wind_spd\u001b[0m\u001b[0;34m(\u001b[0m\u001b[0mds\u001b[0m\u001b[0;34m,\u001b[0m \u001b[0mr_window_len\u001b[0m\u001b[0;34m=\u001b[0m\u001b[0mPARAMS\u001b[0m\u001b[0;34m[\u001b[0m\u001b[0;34m'r_window_len'\u001b[0m\u001b[0;34m]\u001b[0m\u001b[0;34m)\u001b[0m         \u001b[0;31m# TOTAL WIND SPEED\u001b[0m\u001b[0;34m\u001b[0m\u001b[0;34m\u001b[0m\u001b[0m\n",
      "\u001b[0;32m~/scripts/windProfiles/symmetric/functions.py\u001b[0m in \u001b[0;36mcompute_mean_tangential_wind_spd\u001b[0;34m(ds, r_window_len)\u001b[0m\n\u001b[1;32m    630\u001b[0m     \u001b[0mds_ws\u001b[0m  \u001b[0;34m=\u001b[0m \u001b[0mnp\u001b[0m\u001b[0;34m.\u001b[0m\u001b[0mmultiply\u001b[0m\u001b[0;34m(\u001b[0m\u001b[0mds_tws\u001b[0m\u001b[0;34m,\u001b[0m \u001b[0mds_aws\u001b[0m\u001b[0;34m)\u001b[0m             \u001b[0;31m# azimuthal wind\u001b[0m\u001b[0;34m\u001b[0m\u001b[0;34m\u001b[0m\u001b[0m\n\u001b[1;32m    631\u001b[0m     \u001b[0;31m# Possible to call griddata() without using meshgrid() before?\u001b[0m\u001b[0;34m\u001b[0m\u001b[0;34m\u001b[0m\u001b[0;34m\u001b[0m\u001b[0m\n\u001b[0;32m--> 632\u001b[0;31m     \u001b[0mspd\u001b[0m    \u001b[0;34m=\u001b[0m \u001b[0mgriddata\u001b[0m\u001b[0;34m(\u001b[0m\u001b[0;34m(\u001b[0m\u001b[0mds_r\u001b[0m\u001b[0;34m.\u001b[0m\u001b[0mflatten\u001b[0m\u001b[0;34m(\u001b[0m\u001b[0;34m)\u001b[0m\u001b[0;34m,\u001b[0m \u001b[0mds_th\u001b[0m\u001b[0;34m.\u001b[0m\u001b[0mflatten\u001b[0m\u001b[0;34m(\u001b[0m\u001b[0;34m)\u001b[0m\u001b[0;34m)\u001b[0m\u001b[0;34m,\u001b[0m \u001b[0mds_ws\u001b[0m\u001b[0;34m.\u001b[0m\u001b[0mflatten\u001b[0m\u001b[0;34m(\u001b[0m\u001b[0;34m)\u001b[0m\u001b[0;34m,\u001b[0m \u001b[0;34m(\u001b[0m\u001b[0mr\u001b[0m\u001b[0;34m,\u001b[0m \u001b[0mth\u001b[0m\u001b[0;34m)\u001b[0m\u001b[0;34m,\u001b[0m \u001b[0mmethod\u001b[0m\u001b[0;34m=\u001b[0m\u001b[0;34m'nearest'\u001b[0m\u001b[0;34m)\u001b[0m\u001b[0;34m\u001b[0m\u001b[0;34m\u001b[0m\u001b[0m\n\u001b[0m\u001b[1;32m    633\u001b[0m     \u001b[0mspdm_ch\u001b[0m\u001b[0;34m=\u001b[0m \u001b[0mnp\u001b[0m\u001b[0;34m.\u001b[0m\u001b[0mnanmean\u001b[0m\u001b[0;34m(\u001b[0m\u001b[0mspd\u001b[0m\u001b[0;34m,\u001b[0m \u001b[0maxis\u001b[0m\u001b[0;34m=\u001b[0m\u001b[0;36m0\u001b[0m\u001b[0;34m)\u001b[0m\u001b[0;34m\u001b[0m\u001b[0;34m\u001b[0m\u001b[0m\n\u001b[1;32m    634\u001b[0m     \u001b[0;32mreturn\u001b[0m \u001b[0mspdm_ch\u001b[0m\u001b[0;34m\u001b[0m\u001b[0;34m\u001b[0m\u001b[0m\n",
      "\u001b[0;32m~/anaconda3/envs/paramProfiles/lib/python3.8/site-packages/scipy/interpolate/ndgriddata.py\u001b[0m in \u001b[0;36mgriddata\u001b[0;34m(points, values, xi, method, fill_value, rescale)\u001b[0m\n\u001b[1;32m    255\u001b[0m         \u001b[0;32mreturn\u001b[0m \u001b[0mip\u001b[0m\u001b[0;34m(\u001b[0m\u001b[0mxi\u001b[0m\u001b[0;34m)\u001b[0m\u001b[0;34m\u001b[0m\u001b[0;34m\u001b[0m\u001b[0m\n\u001b[1;32m    256\u001b[0m     \u001b[0;32melif\u001b[0m \u001b[0mmethod\u001b[0m \u001b[0;34m==\u001b[0m \u001b[0;34m'nearest'\u001b[0m\u001b[0;34m:\u001b[0m\u001b[0;34m\u001b[0m\u001b[0;34m\u001b[0m\u001b[0m\n\u001b[0;32m--> 257\u001b[0;31m         \u001b[0mip\u001b[0m \u001b[0;34m=\u001b[0m \u001b[0mNearestNDInterpolator\u001b[0m\u001b[0;34m(\u001b[0m\u001b[0mpoints\u001b[0m\u001b[0;34m,\u001b[0m \u001b[0mvalues\u001b[0m\u001b[0;34m,\u001b[0m \u001b[0mrescale\u001b[0m\u001b[0;34m=\u001b[0m\u001b[0mrescale\u001b[0m\u001b[0;34m)\u001b[0m\u001b[0;34m\u001b[0m\u001b[0;34m\u001b[0m\u001b[0m\n\u001b[0m\u001b[1;32m    258\u001b[0m         \u001b[0;32mreturn\u001b[0m \u001b[0mip\u001b[0m\u001b[0;34m(\u001b[0m\u001b[0mxi\u001b[0m\u001b[0;34m)\u001b[0m\u001b[0;34m\u001b[0m\u001b[0;34m\u001b[0m\u001b[0m\n\u001b[1;32m    259\u001b[0m     \u001b[0;32melif\u001b[0m \u001b[0mmethod\u001b[0m \u001b[0;34m==\u001b[0m \u001b[0;34m'linear'\u001b[0m\u001b[0;34m:\u001b[0m\u001b[0;34m\u001b[0m\u001b[0;34m\u001b[0m\u001b[0m\n",
      "\u001b[0;32m~/anaconda3/envs/paramProfiles/lib/python3.8/site-packages/scipy/interpolate/ndgriddata.py\u001b[0m in \u001b[0;36m__init__\u001b[0;34m(self, x, y, rescale, tree_options)\u001b[0m\n\u001b[1;32m     91\u001b[0m         \u001b[0;32mif\u001b[0m \u001b[0mtree_options\u001b[0m \u001b[0;32mis\u001b[0m \u001b[0;32mNone\u001b[0m\u001b[0;34m:\u001b[0m\u001b[0;34m\u001b[0m\u001b[0;34m\u001b[0m\u001b[0m\n\u001b[1;32m     92\u001b[0m             \u001b[0mtree_options\u001b[0m \u001b[0;34m=\u001b[0m \u001b[0mdict\u001b[0m\u001b[0;34m(\u001b[0m\u001b[0;34m)\u001b[0m\u001b[0;34m\u001b[0m\u001b[0;34m\u001b[0m\u001b[0m\n\u001b[0;32m---> 93\u001b[0;31m         \u001b[0mself\u001b[0m\u001b[0;34m.\u001b[0m\u001b[0mtree\u001b[0m \u001b[0;34m=\u001b[0m \u001b[0mcKDTree\u001b[0m\u001b[0;34m(\u001b[0m\u001b[0mself\u001b[0m\u001b[0;34m.\u001b[0m\u001b[0mpoints\u001b[0m\u001b[0;34m,\u001b[0m \u001b[0;34m**\u001b[0m\u001b[0mtree_options\u001b[0m\u001b[0;34m)\u001b[0m\u001b[0;34m\u001b[0m\u001b[0;34m\u001b[0m\u001b[0m\n\u001b[0m\u001b[1;32m     94\u001b[0m         \u001b[0mself\u001b[0m\u001b[0;34m.\u001b[0m\u001b[0mvalues\u001b[0m \u001b[0;34m=\u001b[0m \u001b[0mnp\u001b[0m\u001b[0;34m.\u001b[0m\u001b[0masarray\u001b[0m\u001b[0;34m(\u001b[0m\u001b[0my\u001b[0m\u001b[0;34m)\u001b[0m\u001b[0;34m\u001b[0m\u001b[0;34m\u001b[0m\u001b[0m\n\u001b[1;32m     95\u001b[0m \u001b[0;34m\u001b[0m\u001b[0m\n",
      "\u001b[0;31mKeyboardInterrupt\u001b[0m: "
     ]
    }
   ],
   "source": [
    "# FIT AND PRINT ALL THE PROFILES ON ALL THE DATA\n",
    "i   = 0\n",
    "for file in all_data[:1]:\n",
    "    i += 1\n",
    "    print(i, \"=>    \", file)\n",
    "    # Open file and compute mean wind speed\n",
    "    ds      = xr.open_dataset(file)\n",
    "    if PARAMS['tangential_wind_speed']:\n",
    "        spdm = f.compute_mean_tangential_wind_spd(ds, r_window_len=PARAMS['r_window_len']) # TANGENTIAL WIND SPEED\n",
    "    else:\n",
    "        spdm = f.compute_mean_wind_spd(ds, r_window_len=PARAMS['r_window_len'])         # TOTAL WIND SPEED\n",
    "    \n",
    "    # Debug\n",
    "    if 1 == 0: # DEBUG\n",
    "        f.print_ds(ds)\n",
    "        f.print_spd(ds)\n",
    "        print(spdm)\n",
    "    \n",
    "    # Initialize and fit profile\n",
    "    r, spdm, first_valid_index = f.initialize_radius(spdm)\n",
    "    \n",
    "    INI['Rankine']    = f.initialize_rankine(spdm, x=0.5, alpha=1.,                                PARAMS=PARAMS)\n",
    "    INI['Holland']    = f.initialize_holland(spdm, Lat=np.float64(ds['lat_ref']), pn=1005, pc=950, PARAMS=PARAMS)\n",
    "    INI['Willoughby'] = f.initialize_willoughby(spdm, n=1.,                                        PARAMS=PARAMS)\n",
    "    INI['Chavas']     = f.initialize_chavas(spdm, Lat=np.float64(ds['lat_ref']),                   PARAMS=PARAMS)\n",
    "    \n",
    "    FIT['Rankine']    = f.fit_rankine(r, spdm, *INI['Rankine'],                 PARAMS=PARAMS)\n",
    "    FIT['Holland']    = f.fit_holland(r, spdm, *INI['Holland'],                 PARAMS=PARAMS)\n",
    "    FIT['Willoughby'] = f.fit_willoughby_no_smooth(r, spdm, *INI['Willoughby'], PARAMS=PARAMS)\n",
    "    FIT['Chavas']     = f.fit_chavas(*INI['Chavas'],                            PARAMS=PARAMS)\n",
    "    \n",
    "    Rmax, Vmax = INI['Holland'][4], INI['Holland'][5]\n",
    "    \n",
    "    # Comparison by category, function of r_star\n",
    "    DIFF, NB_CAT = f.calculate_diff_by_cat(ds['current_category'], Rmax, r, spdm, INI, FIT, DIFF, NB_CAT, PARAMS)\n",
    "    # Scater-plots\n",
    "    RMAX_OBS, RMAX_FIT, VMAX_OBS, VMAX_FIT = f.add_to_scatter_list(ds['current_category'], r, Rmax, Vmax, FIT, RMAX_OBS, RMAX_FIT, VMAX_OBS, VMAX_FIT, PARAMS)\n",
    "    \n",
    "    # Useless\n",
    "    # f.plot_curves(i, file, r, spdm, INI, FIT, PARAMS)    # To only plot the curves\n",
    "    # f.save_curves(i, file, ds, r, spdm, INI, FIT, PARAMS) # To save the .jpg and associated .txt files\n",
    "\n",
    "# Plot the comparison\n",
    "# f.plot_comp_by_cat(DIFF, NB_CAT, PARAMS, save=PARAMS['save_comparison'])\n",
    "# f.plot_scatter_rmax(RMAX_OBS, RMAX_FIT, PARAMS)\n",
    "f.plot_scatter_vmax(VMAX_OBS, VMAX_FIT, PARAMS)"
   ]
  },
  {
   "cell_type": "code",
   "execution_count": null,
   "metadata": {},
   "outputs": [],
   "source": [
    "a = np.array([0.8, 0.9, 0.9, 1.1, 1.2, 1.5, 1.7, 1.9, 2.1, 2.3])\n",
    "b = [np.argwhere(a > i)[0] for i in range(0, 3)]\n",
    "b"
   ]
  },
  {
   "cell_type": "code",
   "execution_count": null,
   "metadata": {},
   "outputs": [],
   "source": [
    "cat = np.array(ds['current_category'])\n",
    "print(cat)\n",
    "test = str(cat)\n",
    "aa = [i for i in test]\n",
    "print(aa)"
   ]
  },
  {
   "cell_type": "code",
   "execution_count": null,
   "metadata": {},
   "outputs": [],
   "source": [
    "print(ds)"
   ]
  },
  {
   "cell_type": "code",
   "execution_count": null,
   "metadata": {},
   "outputs": [],
   "source": [
    "r_star = np.linspace(0., 8., num=321)\n",
    "r_star"
   ]
  },
  {
   "cell_type": "code",
   "execution_count": null,
   "metadata": {},
   "outputs": [],
   "source": []
  }
 ],
 "metadata": {
  "kernelspec": {
   "display_name": "paramProfiles",
   "language": "python",
   "name": "paramprofiles"
  },
  "language_info": {
   "codemirror_mode": {
    "name": "ipython",
    "version": 3
   },
   "file_extension": ".py",
   "mimetype": "text/x-python",
   "name": "python",
   "nbconvert_exporter": "python",
   "pygments_lexer": "ipython3",
   "version": "3.8.5"
  }
 },
 "nbformat": 4,
 "nbformat_minor": 4
}
